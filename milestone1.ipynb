{
 "cells": [
  {
   "cell_type": "markdown",
   "id": "naval-start",
   "metadata": {},
   "source": [
    "### 5. Create a BQ dataset for each of your datasets"
   ]
  },
  {
   "cell_type": "code",
   "execution_count": 1,
   "id": "positive-cabinet",
   "metadata": {},
   "outputs": [],
   "source": [
    "airbnb_dataset_id=\"airbnb_staging\""
   ]
  },
  {
   "cell_type": "code",
   "execution_count": 2,
   "id": "designing-worry",
   "metadata": {},
   "outputs": [
    {
     "name": "stdout",
     "output_type": "stream",
     "text": [
      "BigQuery error in mk operation: Dataset 'total-earth-236521:airbnb_staging'\n",
      "already exists.\n"
     ]
    }
   ],
   "source": [
    "!bq --location=US mk --dataset {airbnb_dataset_id}"
   ]
  },
  {
   "cell_type": "code",
   "execution_count": 3,
   "id": "tight-cheat",
   "metadata": {},
   "outputs": [],
   "source": [
    "zillow_dataset_id=\"zillow_staging\""
   ]
  },
  {
   "cell_type": "code",
   "execution_count": 4,
   "id": "isolated-kelly",
   "metadata": {},
   "outputs": [
    {
     "name": "stdout",
     "output_type": "stream",
     "text": [
      "BigQuery error in mk operation: Dataset 'total-earth-236521:zillow_staging'\n",
      "already exists.\n"
     ]
    }
   ],
   "source": [
    "!bq --location=US mk --dataset {zillow_dataset_id}"
   ]
  },
  {
   "cell_type": "markdown",
   "id": "economic-frequency",
   "metadata": {},
   "source": [
    "### 6. Import the CSV files for each dataset into their respective BQ dataset"
   ]
  },
  {
   "cell_type": "markdown",
   "id": "regular-destruction",
   "metadata": {},
   "source": [
    "### AirBnB Dataset"
   ]
  },
  {
   "cell_type": "code",
   "execution_count": 4,
   "id": "dangerous-preference",
   "metadata": {},
   "outputs": [
    {
     "name": "stdout",
     "output_type": "stream",
     "text": [
      "Waiting on bqjob_r69f6672aa5edc2df_00000178c7c040a5_1 ... (64s) Current status: DONE   \n"
     ]
    }
   ],
   "source": [
    "!bq --location=US load --autodetect --skip_leading_rows=1 \\\n",
    "--source_format=CSV {airbnb_dataset_id}.Austin_calendar 'gs://finalpush/airbnb/Austin_calendar.csv'"
   ]
  },
  {
   "cell_type": "code",
   "execution_count": 11,
   "id": "scientific-damages",
   "metadata": {},
   "outputs": [
    {
     "name": "stdout",
     "output_type": "stream",
     "text": [
      "Waiting on bqjob_r769674cbd317d94a_00000178ce6ee1a4_1 ... (47s) Current status: DONE   \n"
     ]
    }
   ],
   "source": [
    "!bq --location=US load --autodetect --skip_leading_rows=1 --allow_quoted_newlines=true \\\n",
    "--source_format=CSV {airbnb_dataset_id}.Austin_listings 'gs://finalpush/airbnb/Austin_listings.csv'"
   ]
  },
  {
   "cell_type": "code",
   "execution_count": 7,
   "id": "functioning-enterprise",
   "metadata": {},
   "outputs": [
    {
     "name": "stdout",
     "output_type": "stream",
     "text": [
      "Waiting on bqjob_r599f34cdaf623e4f_00000178c7c51972_1 ... (1s) Current status: DONE   \n"
     ]
    }
   ],
   "source": [
    "!bq --location=US load --autodetect --skip_leading_rows=1 \\\n",
    "--source_format=CSV {airbnb_dataset_id}.Austin_neighbourhoods 'gs://finalpush/airbnb/Austin_neighbourhoods.csv'"
   ]
  },
  {
   "cell_type": "code",
   "execution_count": 8,
   "id": "material-effort",
   "metadata": {},
   "outputs": [
    {
     "name": "stdout",
     "output_type": "stream",
     "text": [
      "Waiting on bqjob_r9a826e060052195_00000178c7c5ac9f_1 ... (2s) Current status: DONE   \n"
     ]
    }
   ],
   "source": [
    "!bq --location=US load --autodetect --skip_leading_rows=1 \\\n",
    "--source_format=CSV {airbnb_dataset_id}.Austin_reviews 'gs://finalpush/airbnb/Austin_reviews.csv'"
   ]
  },
  {
   "cell_type": "code",
   "execution_count": 10,
   "id": "saving-influence",
   "metadata": {},
   "outputs": [
    {
     "name": "stdout",
     "output_type": "stream",
     "text": [
      "Waiting on bqjob_r19c8e9bf3e5590b2_00000178c7c69b35_1 ... (22s) Current status: DONE   \n"
     ]
    }
   ],
   "source": [
    "!bq --location=US load --autodetect --skip_leading_rows=1 \\\n",
    "--source_format=CSV {airbnb_dataset_id}.Boston_calendar 'gs://finalpush/airbnb/Boston_calendar.csv'"
   ]
  },
  {
   "cell_type": "code",
   "execution_count": 19,
   "id": "unique-hunter",
   "metadata": {},
   "outputs": [
    {
     "name": "stdout",
     "output_type": "stream",
     "text": [
      "Waiting on bqjob_r57bec9ffd9a422ed_00000178ce73bab2_1 ... (1s) Current status: DONE   \n"
     ]
    }
   ],
   "source": [
    "!bq --location=US load --autodetect --skip_leading_rows=1 --allow_quoted_newlines=true \\\n",
    "--source_format=CSV {airbnb_dataset_id}.Boston_listings 'gs://finalpush/airbnb/Boston_listings.csv'"
   ]
  },
  {
   "cell_type": "code",
   "execution_count": 14,
   "id": "confused-mining",
   "metadata": {},
   "outputs": [
    {
     "name": "stdout",
     "output_type": "stream",
     "text": [
      "Waiting on bqjob_r5a809c89dca29b90_00000178c7c92d72_1 ... (1s) Current status: DONE   \n"
     ]
    }
   ],
   "source": [
    "!bq --location=US load --autodetect --skip_leading_rows=1 \\\n",
    "--source_format=CSV {airbnb_dataset_id}.Boston_neighbourhoods 'gs://finalpush/airbnb/Boston_neighbourhoods.csv'"
   ]
  },
  {
   "cell_type": "code",
   "execution_count": 15,
   "id": "juvenile-wales",
   "metadata": {},
   "outputs": [
    {
     "name": "stdout",
     "output_type": "stream",
     "text": [
      "Waiting on bqjob_r2d3612e42db96ece_00000178c7c95688_1 ... (1s) Current status: DONE   \n"
     ]
    }
   ],
   "source": [
    "!bq --location=US load --autodetect --skip_leading_rows=1 \\\n",
    "--source_format=CSV {airbnb_dataset_id}.Boston_reviews 'gs://finalpush/airbnb/Boston_reviews.csv'"
   ]
  },
  {
   "cell_type": "code",
   "execution_count": 16,
   "id": "further-optimization",
   "metadata": {},
   "outputs": [
    {
     "name": "stdout",
     "output_type": "stream",
     "text": [
      "Waiting on bqjob_r63928c0fb50c27bc_00000178c7c99e46_1 ... (134s) Current status: DONE   \n"
     ]
    }
   ],
   "source": [
    "!bq --location=US load --autodetect --skip_leading_rows=1 \\\n",
    "--source_format=CSV {airbnb_dataset_id}.LA_calendar 'gs://finalpush/airbnb/LA_calendar.csv'"
   ]
  },
  {
   "cell_type": "code",
   "execution_count": 17,
   "id": "brazilian-willow",
   "metadata": {},
   "outputs": [
    {
     "name": "stdout",
     "output_type": "stream",
     "text": [
      "Waiting on bqjob_r7d124f457b8be868_00000178ce736783_1 ... (3s) Current status: DONE   \n"
     ]
    }
   ],
   "source": [
    "!bq --location=US load --autodetect --skip_leading_rows=1 --allow_quoted_newlines=true \\\n",
    "--source_format=CSV {airbnb_dataset_id}.LA_listings 'gs://finalpush/airbnb/LA_listings.csv'"
   ]
  },
  {
   "cell_type": "code",
   "execution_count": 18,
   "id": "stylish-exhibit",
   "metadata": {},
   "outputs": [
    {
     "name": "stdout",
     "output_type": "stream",
     "text": [
      "Waiting on bqjob_r1d75eea61d27724b_00000178c7cbc007_1 ... (1s) Current status: DONE   \n"
     ]
    }
   ],
   "source": [
    "!bq --location=US load --autodetect --skip_leading_rows=1 \\\n",
    "--source_format=CSV {airbnb_dataset_id}.LA_neighbourhoods 'gs://finalpush/airbnb/LA_neighbourhoods.csv'"
   ]
  },
  {
   "cell_type": "code",
   "execution_count": 19,
   "id": "copyrighted-train",
   "metadata": {},
   "outputs": [
    {
     "name": "stdout",
     "output_type": "stream",
     "text": [
      "Waiting on bqjob_r4f6a88792de5cce1_00000178c7cbcc96_1 ... (3s) Current status: DONE   \n"
     ]
    }
   ],
   "source": [
    "!bq --location=US load --autodetect --skip_leading_rows=1 \\\n",
    "--source_format=CSV {airbnb_dataset_id}.LA_reviews 'gs://finalpush/airbnb/LA_reviews.csv'"
   ]
  },
  {
   "cell_type": "code",
   "execution_count": 27,
   "id": "french-designation",
   "metadata": {},
   "outputs": [
    {
     "data": {
      "text/html": [
       "<div>\n",
       "<style scoped>\n",
       "    .dataframe tbody tr th:only-of-type {\n",
       "        vertical-align: middle;\n",
       "    }\n",
       "\n",
       "    .dataframe tbody tr th {\n",
       "        vertical-align: top;\n",
       "    }\n",
       "\n",
       "    .dataframe thead th {\n",
       "        text-align: right;\n",
       "    }\n",
       "</style>\n",
       "<table border=\"1\" class=\"dataframe\">\n",
       "  <thead>\n",
       "    <tr style=\"text-align: right;\">\n",
       "      <th></th>\n",
       "    </tr>\n",
       "  </thead>\n",
       "  <tbody>\n",
       "  </tbody>\n",
       "</table>\n",
       "</div>"
      ],
      "text/plain": [
       "Empty DataFrame\n",
       "Columns: []\n",
       "Index: []"
      ]
     },
     "execution_count": 27,
     "metadata": {},
     "output_type": "execute_result"
    }
   ],
   "source": [
    "#%%bigquery\n",
    "#drop table zillow_staging.long_term_rentals_transposed"
   ]
  },
  {
   "cell_type": "markdown",
   "id": "informal-egypt",
   "metadata": {},
   "source": [
    "### Zillow Dataset - consulted with TA, suggested to use 2 more tables (homevalue & inventory) aside from Long-term rent"
   ]
  },
  {
   "cell_type": "code",
   "execution_count": 5,
   "id": "treated-breathing",
   "metadata": {},
   "outputs": [
    {
     "name": "stdout",
     "output_type": "stream",
     "text": [
      "Waiting on bqjob_rdcacfca89e9557b_00000178d3ab2a37_1 ... (1s) Current status: DONE   \n"
     ]
    }
   ],
   "source": [
    "!bq --location=US load --autodetect --skip_leading_rows=1 \\\n",
    "--source_format=CSV {zillow_dataset_id}.zillow_rental 'gs://finalpush/zillow/zillow_rental.csv'"
   ]
  },
  {
   "cell_type": "code",
   "execution_count": 9,
   "id": "comparable-corps",
   "metadata": {},
   "outputs": [
    {
     "name": "stdout",
     "output_type": "stream",
     "text": [
      "Waiting on bqjob_r4b62693e0a27d7e7_00000178d3b27391_1 ... (2s) Current status: DONE   \n"
     ]
    }
   ],
   "source": [
    "!bq --location=US load --autodetect --skip_leading_rows=1 \\\n",
    "--source_format=CSV {zillow_dataset_id}.zillow_homevalue 'gs://finalpush/zillow/zillow_homevalue.csv'"
   ]
  },
  {
   "cell_type": "code",
   "execution_count": 8,
   "id": "orange-disposition",
   "metadata": {},
   "outputs": [
    {
     "name": "stdout",
     "output_type": "stream",
     "text": [
      "Waiting on bqjob_r7ab77a4e936aee94_00000178d3ac306d_1 ... (1s) Current status: DONE   \n"
     ]
    }
   ],
   "source": [
    "!bq --location=US load --autodetect --skip_leading_rows=1 \\\n",
    "--source_format=CSV {zillow_dataset_id}.zillow_inventory 'gs://finalpush/zillow/zillow_inventory.csv'"
   ]
  },
  {
   "cell_type": "markdown",
   "id": "brazilian-southeast",
   "metadata": {},
   "source": [
    "### 7. Write some SQL queries to explore your BQ datasets"
   ]
  },
  {
   "cell_type": "markdown",
   "id": "injured-router",
   "metadata": {},
   "source": [
    "Return  the count of room type for each neighborhood in Austin, counting only those with\n",
    "renting price is more that 20 USD"
   ]
  },
  {
   "cell_type": "code",
   "execution_count": 2,
   "id": "settled-locking",
   "metadata": {},
   "outputs": [
    {
     "data": {
      "text/html": [
       "<div>\n",
       "<style scoped>\n",
       "    .dataframe tbody tr th:only-of-type {\n",
       "        vertical-align: middle;\n",
       "    }\n",
       "\n",
       "    .dataframe tbody tr th {\n",
       "        vertical-align: top;\n",
       "    }\n",
       "\n",
       "    .dataframe thead th {\n",
       "        text-align: right;\n",
       "    }\n",
       "</style>\n",
       "<table border=\"1\" class=\"dataframe\">\n",
       "  <thead>\n",
       "    <tr style=\"text-align: right;\">\n",
       "      <th></th>\n",
       "      <th>counting</th>\n",
       "      <th>room_type</th>\n",
       "      <th>neighbourhood</th>\n",
       "    </tr>\n",
       "  </thead>\n",
       "  <tbody>\n",
       "    <tr>\n",
       "      <th>0</th>\n",
       "      <td>4</td>\n",
       "      <td>Shared room</td>\n",
       "      <td>78701</td>\n",
       "    </tr>\n",
       "    <tr>\n",
       "      <th>1</th>\n",
       "      <td>644</td>\n",
       "      <td>Entire home/apt</td>\n",
       "      <td>78701</td>\n",
       "    </tr>\n",
       "    <tr>\n",
       "      <th>2</th>\n",
       "      <td>59</td>\n",
       "      <td>Private room</td>\n",
       "      <td>78701</td>\n",
       "    </tr>\n",
       "    <tr>\n",
       "      <th>3</th>\n",
       "      <td>6</td>\n",
       "      <td>Hotel room</td>\n",
       "      <td>78701</td>\n",
       "    </tr>\n",
       "    <tr>\n",
       "      <th>4</th>\n",
       "      <td>1065</td>\n",
       "      <td>Entire home/apt</td>\n",
       "      <td>78702</td>\n",
       "    </tr>\n",
       "  </tbody>\n",
       "</table>\n",
       "</div>"
      ],
      "text/plain": [
       "   counting        room_type  neighbourhood\n",
       "0         4      Shared room          78701\n",
       "1       644  Entire home/apt          78701\n",
       "2        59     Private room          78701\n",
       "3         6       Hotel room          78701\n",
       "4      1065  Entire home/apt          78702"
      ]
     },
     "execution_count": 2,
     "metadata": {},
     "output_type": "execute_result"
    }
   ],
   "source": [
    "%%bigquery\n",
    "SELECT count(al.room_type) as counting, al.room_type, al.neighbourhood\n",
    "FROM airbnb_staging.Austin_listings as al \n",
    "WHERE al.price >= 20\n",
    "GROUP BY al.neighbourhood, al.room_type \n",
    "ORDER BY al.neighbourhood \n",
    "LIMIT 5\n"
   ]
  },
  {
   "cell_type": "markdown",
   "id": "featured-container",
   "metadata": {},
   "source": [
    "Return the total numbers of reviews for each neighborhood in Austin\n",
    "specifically for Hotel room type"
   ]
  },
  {
   "cell_type": "code",
   "execution_count": 39,
   "id": "acting-complex",
   "metadata": {},
   "outputs": [
    {
     "data": {
      "text/html": [
       "<div>\n",
       "<style scoped>\n",
       "    .dataframe tbody tr th:only-of-type {\n",
       "        vertical-align: middle;\n",
       "    }\n",
       "\n",
       "    .dataframe tbody tr th {\n",
       "        vertical-align: top;\n",
       "    }\n",
       "\n",
       "    .dataframe thead th {\n",
       "        text-align: right;\n",
       "    }\n",
       "</style>\n",
       "<table border=\"1\" class=\"dataframe\">\n",
       "  <thead>\n",
       "    <tr style=\"text-align: right;\">\n",
       "      <th></th>\n",
       "      <th>totalReviews</th>\n",
       "      <th>neighbourhood</th>\n",
       "    </tr>\n",
       "  </thead>\n",
       "  <tbody>\n",
       "    <tr>\n",
       "      <th>0</th>\n",
       "      <td>0</td>\n",
       "      <td>78746</td>\n",
       "    </tr>\n",
       "    <tr>\n",
       "      <th>1</th>\n",
       "      <td>0</td>\n",
       "      <td>78704</td>\n",
       "    </tr>\n",
       "    <tr>\n",
       "      <th>2</th>\n",
       "      <td>1</td>\n",
       "      <td>78734</td>\n",
       "    </tr>\n",
       "    <tr>\n",
       "      <th>3</th>\n",
       "      <td>1</td>\n",
       "      <td>78733</td>\n",
       "    </tr>\n",
       "    <tr>\n",
       "      <th>4</th>\n",
       "      <td>150</td>\n",
       "      <td>78701</td>\n",
       "    </tr>\n",
       "  </tbody>\n",
       "</table>\n",
       "</div>"
      ],
      "text/plain": [
       "   totalReviews  neighbourhood\n",
       "0             0          78746\n",
       "1             0          78704\n",
       "2             1          78734\n",
       "3             1          78733\n",
       "4           150          78701"
      ]
     },
     "execution_count": 39,
     "metadata": {},
     "output_type": "execute_result"
    }
   ],
   "source": [
    "%%bigquery\n",
    "SELECT sum(al.number_of_reviews) as totalReviews, al.neighbourhood\n",
    "FROM airbnb_staging.Austin_listings as al\n",
    "WHERE al.room_type = 'Hotel room'\n",
    "GROUP BY al.neighbourhood\n",
    "ORDER BY totalReviews\n",
    "LIMIT 5\n"
   ]
  },
  {
   "cell_type": "markdown",
   "id": "suspected-assessment",
   "metadata": {},
   "source": [
    "Return total of unoccupied property for each neighborhood in Austin\n",
    "(this should be useful when compared to price and popularity)"
   ]
  },
  {
   "cell_type": "code",
   "execution_count": 40,
   "id": "north-basis",
   "metadata": {},
   "outputs": [
    {
     "data": {
      "text/html": [
       "<div>\n",
       "<style scoped>\n",
       "    .dataframe tbody tr th:only-of-type {\n",
       "        vertical-align: middle;\n",
       "    }\n",
       "\n",
       "    .dataframe tbody tr th {\n",
       "        vertical-align: top;\n",
       "    }\n",
       "\n",
       "    .dataframe thead th {\n",
       "        text-align: right;\n",
       "    }\n",
       "</style>\n",
       "<table border=\"1\" class=\"dataframe\">\n",
       "  <thead>\n",
       "    <tr style=\"text-align: right;\">\n",
       "      <th></th>\n",
       "      <th>totalUnoccupied</th>\n",
       "      <th>neighbourhood</th>\n",
       "    </tr>\n",
       "  </thead>\n",
       "  <tbody>\n",
       "    <tr>\n",
       "      <th>0</th>\n",
       "      <td>226181</td>\n",
       "      <td>78704</td>\n",
       "    </tr>\n",
       "    <tr>\n",
       "      <th>1</th>\n",
       "      <td>151482</td>\n",
       "      <td>78702</td>\n",
       "    </tr>\n",
       "    <tr>\n",
       "      <th>2</th>\n",
       "      <td>93322</td>\n",
       "      <td>78701</td>\n",
       "    </tr>\n",
       "    <tr>\n",
       "      <th>3</th>\n",
       "      <td>76685</td>\n",
       "      <td>78751</td>\n",
       "    </tr>\n",
       "    <tr>\n",
       "      <th>4</th>\n",
       "      <td>68803</td>\n",
       "      <td>78745</td>\n",
       "    </tr>\n",
       "  </tbody>\n",
       "</table>\n",
       "</div>"
      ],
      "text/plain": [
       "   totalUnoccupied  neighbourhood\n",
       "0           226181          78704\n",
       "1           151482          78702\n",
       "2            93322          78701\n",
       "3            76685          78751\n",
       "4            68803          78745"
      ]
     },
     "execution_count": 40,
     "metadata": {},
     "output_type": "execute_result"
    }
   ],
   "source": [
    "%%bigquery\n",
    "SELECT count(*) as totalUnoccupied, al.neighbourhood\n",
    "FROM airbnb_staging.Austin_listings as al\n",
    "JOIN airbnb_staging.Austin_calendar as cd\n",
    "ON al.id = cd.listing_id\n",
    "WHERE cd.available = TRUE \n",
    "GROUP BY al.neighbourhood\n",
    "ORDER BY totalUnoccupied DESC\n",
    "LIMIT 5"
   ]
  },
  {
   "cell_type": "markdown",
   "id": "recreational-retro",
   "metadata": {},
   "source": [
    "Return the average price of the property for each month of the year in Austin\n",
    "specifically averaging across those propertywith medium stay (more than 14 nights)"
   ]
  },
  {
   "cell_type": "code",
   "execution_count": 41,
   "id": "cosmetic-disclaimer",
   "metadata": {},
   "outputs": [
    {
     "data": {
      "text/html": [
       "<div>\n",
       "<style scoped>\n",
       "    .dataframe tbody tr th:only-of-type {\n",
       "        vertical-align: middle;\n",
       "    }\n",
       "\n",
       "    .dataframe tbody tr th {\n",
       "        vertical-align: top;\n",
       "    }\n",
       "\n",
       "    .dataframe thead th {\n",
       "        text-align: right;\n",
       "    }\n",
       "</style>\n",
       "<table border=\"1\" class=\"dataframe\">\n",
       "  <thead>\n",
       "    <tr style=\"text-align: right;\">\n",
       "      <th></th>\n",
       "      <th>avgPrice</th>\n",
       "      <th>month</th>\n",
       "    </tr>\n",
       "  </thead>\n",
       "  <tbody>\n",
       "    <tr>\n",
       "      <th>0</th>\n",
       "      <td>149.006551</td>\n",
       "      <td>10</td>\n",
       "    </tr>\n",
       "    <tr>\n",
       "      <th>1</th>\n",
       "      <td>146.643563</td>\n",
       "      <td>7</td>\n",
       "    </tr>\n",
       "    <tr>\n",
       "      <th>2</th>\n",
       "      <td>146.622644</td>\n",
       "      <td>9</td>\n",
       "    </tr>\n",
       "    <tr>\n",
       "      <th>3</th>\n",
       "      <td>145.233153</td>\n",
       "      <td>11</td>\n",
       "    </tr>\n",
       "    <tr>\n",
       "      <th>4</th>\n",
       "      <td>144.585445</td>\n",
       "      <td>1</td>\n",
       "    </tr>\n",
       "    <tr>\n",
       "      <th>5</th>\n",
       "      <td>144.510880</td>\n",
       "      <td>8</td>\n",
       "    </tr>\n",
       "    <tr>\n",
       "      <th>6</th>\n",
       "      <td>144.428015</td>\n",
       "      <td>6</td>\n",
       "    </tr>\n",
       "    <tr>\n",
       "      <th>7</th>\n",
       "      <td>144.396964</td>\n",
       "      <td>12</td>\n",
       "    </tr>\n",
       "    <tr>\n",
       "      <th>8</th>\n",
       "      <td>143.852969</td>\n",
       "      <td>5</td>\n",
       "    </tr>\n",
       "    <tr>\n",
       "      <th>9</th>\n",
       "      <td>143.727773</td>\n",
       "      <td>3</td>\n",
       "    </tr>\n",
       "    <tr>\n",
       "      <th>10</th>\n",
       "      <td>143.678553</td>\n",
       "      <td>4</td>\n",
       "    </tr>\n",
       "    <tr>\n",
       "      <th>11</th>\n",
       "      <td>142.225791</td>\n",
       "      <td>2</td>\n",
       "    </tr>\n",
       "  </tbody>\n",
       "</table>\n",
       "</div>"
      ],
      "text/plain": [
       "      avgPrice  month\n",
       "0   149.006551     10\n",
       "1   146.643563      7\n",
       "2   146.622644      9\n",
       "3   145.233153     11\n",
       "4   144.585445      1\n",
       "5   144.510880      8\n",
       "6   144.428015      6\n",
       "7   144.396964     12\n",
       "8   143.852969      5\n",
       "9   143.727773      3\n",
       "10  143.678553      4\n",
       "11  142.225791      2"
      ]
     },
     "execution_count": 41,
     "metadata": {},
     "output_type": "execute_result"
    }
   ],
   "source": [
    "%%bigquery\n",
    "SELECT avg(cd.price) as avgPrice, extract (month from cd.date) as month\n",
    "FROM airbnb_staging.Austin_calendar as cd\n",
    "WHERE cd.minimum_nights>= 14\n",
    "GROUP BY month\n",
    "ORDER BY avgPrice DESC\n",
    "LIMIT 12\n"
   ]
  },
  {
   "cell_type": "markdown",
   "id": "surgical-combine",
   "metadata": {},
   "source": [
    "Return the range and average of the short-term rental price (min and max) for each neighborhood in Austin\n",
    "specifically want to see only where the minPrice is greater than 10 USD (below 10 USD/day seems unreasonable for rent)"
   ]
  },
  {
   "cell_type": "code",
   "execution_count": 42,
   "id": "centered-globe",
   "metadata": {},
   "outputs": [
    {
     "data": {
      "text/html": [
       "<div>\n",
       "<style scoped>\n",
       "    .dataframe tbody tr th:only-of-type {\n",
       "        vertical-align: middle;\n",
       "    }\n",
       "\n",
       "    .dataframe tbody tr th {\n",
       "        vertical-align: top;\n",
       "    }\n",
       "\n",
       "    .dataframe thead th {\n",
       "        text-align: right;\n",
       "    }\n",
       "</style>\n",
       "<table border=\"1\" class=\"dataframe\">\n",
       "  <thead>\n",
       "    <tr style=\"text-align: right;\">\n",
       "      <th></th>\n",
       "      <th>minPrice</th>\n",
       "      <th>maxPrice</th>\n",
       "      <th>avgPrice</th>\n",
       "      <th>neighbourhood</th>\n",
       "    </tr>\n",
       "  </thead>\n",
       "  <tbody>\n",
       "    <tr>\n",
       "      <th>0</th>\n",
       "      <td>28</td>\n",
       "      <td>16264</td>\n",
       "      <td>1051.074627</td>\n",
       "      <td>78733</td>\n",
       "    </tr>\n",
       "    <tr>\n",
       "      <th>1</th>\n",
       "      <td>10</td>\n",
       "      <td>10000</td>\n",
       "      <td>242.773163</td>\n",
       "      <td>78723</td>\n",
       "    </tr>\n",
       "    <tr>\n",
       "      <th>2</th>\n",
       "      <td>10</td>\n",
       "      <td>10000</td>\n",
       "      <td>413.058491</td>\n",
       "      <td>78703</td>\n",
       "    </tr>\n",
       "    <tr>\n",
       "      <th>3</th>\n",
       "      <td>20</td>\n",
       "      <td>10000</td>\n",
       "      <td>290.610098</td>\n",
       "      <td>78701</td>\n",
       "    </tr>\n",
       "    <tr>\n",
       "      <th>4</th>\n",
       "      <td>19</td>\n",
       "      <td>9998</td>\n",
       "      <td>392.829268</td>\n",
       "      <td>78750</td>\n",
       "    </tr>\n",
       "    <tr>\n",
       "      <th>5</th>\n",
       "      <td>40</td>\n",
       "      <td>6948</td>\n",
       "      <td>1061.837838</td>\n",
       "      <td>78730</td>\n",
       "    </tr>\n",
       "    <tr>\n",
       "      <th>6</th>\n",
       "      <td>23</td>\n",
       "      <td>5035</td>\n",
       "      <td>780.702128</td>\n",
       "      <td>78732</td>\n",
       "    </tr>\n",
       "    <tr>\n",
       "      <th>7</th>\n",
       "      <td>19</td>\n",
       "      <td>5021</td>\n",
       "      <td>210.954545</td>\n",
       "      <td>78749</td>\n",
       "    </tr>\n",
       "    <tr>\n",
       "      <th>8</th>\n",
       "      <td>39</td>\n",
       "      <td>5000</td>\n",
       "      <td>358.158590</td>\n",
       "      <td>78734</td>\n",
       "    </tr>\n",
       "    <tr>\n",
       "      <th>9</th>\n",
       "      <td>48</td>\n",
       "      <td>4575</td>\n",
       "      <td>474.237113</td>\n",
       "      <td>78737</td>\n",
       "    </tr>\n",
       "  </tbody>\n",
       "</table>\n",
       "</div>"
      ],
      "text/plain": [
       "   minPrice  maxPrice     avgPrice  neighbourhood\n",
       "0        28     16264  1051.074627          78733\n",
       "1        10     10000   242.773163          78723\n",
       "2        10     10000   413.058491          78703\n",
       "3        20     10000   290.610098          78701\n",
       "4        19      9998   392.829268          78750\n",
       "5        40      6948  1061.837838          78730\n",
       "6        23      5035   780.702128          78732\n",
       "7        19      5021   210.954545          78749\n",
       "8        39      5000   358.158590          78734\n",
       "9        48      4575   474.237113          78737"
      ]
     },
     "execution_count": 42,
     "metadata": {},
     "output_type": "execute_result"
    }
   ],
   "source": [
    "%%bigquery\n",
    "SELECT min(al.price) as minPrice, max(al.price) as maxPrice, avg(al.price) as avgPrice, al.neighbourhood\n",
    "FROM airbnb_staging.Austin_listings as al\n",
    "GROUP BY al.neighbourhood\n",
    "HAVING minPrice >=10\n",
    "ORDER BY maxPrice DESC\n",
    "LIMIT 10"
   ]
  },
  {
   "cell_type": "code",
   "execution_count": 43,
   "id": "flush-logic",
   "metadata": {},
   "outputs": [],
   "source": [
    "# Zillow "
   ]
  },
  {
   "cell_type": "markdown",
   "id": "known-ownership",
   "metadata": {},
   "source": [
    "Return the average long-term house value in Austin and its inventory for each year in Austin\n",
    "we want to see only year before 2021 (to have full coverage)"
   ]
  },
  {
   "cell_type": "code",
   "execution_count": 44,
   "id": "fundamental-paint",
   "metadata": {},
   "outputs": [
    {
     "data": {
      "text/html": [
       "<div>\n",
       "<style scoped>\n",
       "    .dataframe tbody tr th:only-of-type {\n",
       "        vertical-align: middle;\n",
       "    }\n",
       "\n",
       "    .dataframe tbody tr th {\n",
       "        vertical-align: top;\n",
       "    }\n",
       "\n",
       "    .dataframe thead th {\n",
       "        text-align: right;\n",
       "    }\n",
       "</style>\n",
       "<table border=\"1\" class=\"dataframe\">\n",
       "  <thead>\n",
       "    <tr style=\"text-align: right;\">\n",
       "      <th></th>\n",
       "      <th>AVGHomeValue</th>\n",
       "      <th>AVGInventory</th>\n",
       "      <th>Year</th>\n",
       "    </tr>\n",
       "  </thead>\n",
       "  <tbody>\n",
       "    <tr>\n",
       "      <th>0</th>\n",
       "      <td>334535.083333</td>\n",
       "      <td>9974.916667</td>\n",
       "      <td>2018</td>\n",
       "    </tr>\n",
       "    <tr>\n",
       "      <th>1</th>\n",
       "      <td>349291.000000</td>\n",
       "      <td>10537.166667</td>\n",
       "      <td>2019</td>\n",
       "    </tr>\n",
       "    <tr>\n",
       "      <th>2</th>\n",
       "      <td>371923.083333</td>\n",
       "      <td>9309.333333</td>\n",
       "      <td>2020</td>\n",
       "    </tr>\n",
       "  </tbody>\n",
       "</table>\n",
       "</div>"
      ],
      "text/plain": [
       "    AVGHomeValue  AVGInventory  Year\n",
       "0  334535.083333   9974.916667  2018\n",
       "1  349291.000000  10537.166667  2019\n",
       "2  371923.083333   9309.333333  2020"
      ]
     },
     "execution_count": 44,
     "metadata": {},
     "output_type": "execute_result"
    }
   ],
   "source": [
    "%%bigquery\n",
    "SELECT avg(hv.Austin) as AVGHomeValue, avg(inv.Austin) as AVGInventory, extract (year from inv.Date) as Year\n",
    "FROM zillow_staging.zillow_homevalue as hv\n",
    "JOIN zillow_staging.zillow_inventory as inv\n",
    "ON  extract (year from hv.Date) = extract (year from inv.Date)\n",
    "GROUP BY Year\n",
    "HAVING Year < 2021\n",
    "ORDER BY AVGHomeValue"
   ]
  },
  {
   "cell_type": "markdown",
   "id": "difficult-cholesterol",
   "metadata": {},
   "source": [
    "Return an average of long-ter, rental price and inventory for ALL 3 Cities we pick for each year,\n",
    "specifically we retrieve only the year before 2021 to have the full coverage"
   ]
  },
  {
   "cell_type": "code",
   "execution_count": 45,
   "id": "orange-dakota",
   "metadata": {},
   "outputs": [
    {
     "data": {
      "text/html": [
       "<div>\n",
       "<style scoped>\n",
       "    .dataframe tbody tr th:only-of-type {\n",
       "        vertical-align: middle;\n",
       "    }\n",
       "\n",
       "    .dataframe tbody tr th {\n",
       "        vertical-align: top;\n",
       "    }\n",
       "\n",
       "    .dataframe thead th {\n",
       "        text-align: right;\n",
       "    }\n",
       "</style>\n",
       "<table border=\"1\" class=\"dataframe\">\n",
       "  <thead>\n",
       "    <tr style=\"text-align: right;\">\n",
       "      <th></th>\n",
       "      <th>US</th>\n",
       "      <th>ATX</th>\n",
       "      <th>BOS</th>\n",
       "      <th>LA</th>\n",
       "      <th>invAus</th>\n",
       "      <th>invBos</th>\n",
       "      <th>invLA</th>\n",
       "      <th>Year</th>\n",
       "    </tr>\n",
       "  </thead>\n",
       "  <tbody>\n",
       "    <tr>\n",
       "      <th>0</th>\n",
       "      <td>1655.500000</td>\n",
       "      <td>1446.666667</td>\n",
       "      <td>2338.083333</td>\n",
       "      <td>2433.416667</td>\n",
       "      <td>9974.916667</td>\n",
       "      <td>14230.916667</td>\n",
       "      <td>26620.083333</td>\n",
       "      <td>2018</td>\n",
       "    </tr>\n",
       "    <tr>\n",
       "      <th>1</th>\n",
       "      <td>1715.083333</td>\n",
       "      <td>1511.250000</td>\n",
       "      <td>2411.583333</td>\n",
       "      <td>2523.000000</td>\n",
       "      <td>10537.166667</td>\n",
       "      <td>15454.583333</td>\n",
       "      <td>29247.583333</td>\n",
       "      <td>2019</td>\n",
       "    </tr>\n",
       "    <tr>\n",
       "      <th>2</th>\n",
       "      <td>1744.416667</td>\n",
       "      <td>1523.083333</td>\n",
       "      <td>2378.333333</td>\n",
       "      <td>2548.583333</td>\n",
       "      <td>9309.333333</td>\n",
       "      <td>12656.416667</td>\n",
       "      <td>23693.833333</td>\n",
       "      <td>2020</td>\n",
       "    </tr>\n",
       "  </tbody>\n",
       "</table>\n",
       "</div>"
      ],
      "text/plain": [
       "            US          ATX          BOS           LA        invAus  \\\n",
       "0  1655.500000  1446.666667  2338.083333  2433.416667   9974.916667   \n",
       "1  1715.083333  1511.250000  2411.583333  2523.000000  10537.166667   \n",
       "2  1744.416667  1523.083333  2378.333333  2548.583333   9309.333333   \n",
       "\n",
       "         invBos         invLA  Year  \n",
       "0  14230.916667  26620.083333  2018  \n",
       "1  15454.583333  29247.583333  2019  \n",
       "2  12656.416667  23693.833333  2020  "
      ]
     },
     "execution_count": 45,
     "metadata": {},
     "output_type": "execute_result"
    }
   ],
   "source": [
    "%%bigquery\n",
    "SELECT avg(rt.USA) as US, avg(rt.Austin) as ATX, avg(rt.Boston) as BOS, avg(rt.LA) as LA, \n",
    "avg(inv.Austin) as invAus, avg(inv.Boston) as invBos, avg(inv.LA) as invLA, \n",
    "extract (year from rt.Date) as Year\n",
    "FROM zillow_staging.zillow_rental as rt\n",
    "JOIN zillow_staging.zillow_inventory as inv\n",
    "ON  extract (year from rt.Date) = extract (year from inv.Date)\n",
    "GROUP BY Year\n",
    "HAVING Year < 2021\n",
    "LIMIT 5\n"
   ]
  },
  {
   "cell_type": "markdown",
   "id": "affiliated-saver",
   "metadata": {},
   "source": [
    "Return the average home value in austin and long-term rental price for each month in Austin\n",
    "for the year 2020"
   ]
  },
  {
   "cell_type": "code",
   "execution_count": 46,
   "id": "seeing-flooring",
   "metadata": {},
   "outputs": [
    {
     "data": {
      "text/html": [
       "<div>\n",
       "<style scoped>\n",
       "    .dataframe tbody tr th:only-of-type {\n",
       "        vertical-align: middle;\n",
       "    }\n",
       "\n",
       "    .dataframe tbody tr th {\n",
       "        vertical-align: top;\n",
       "    }\n",
       "\n",
       "    .dataframe thead th {\n",
       "        text-align: right;\n",
       "    }\n",
       "</style>\n",
       "<table border=\"1\" class=\"dataframe\">\n",
       "  <thead>\n",
       "    <tr style=\"text-align: right;\">\n",
       "      <th></th>\n",
       "      <th>avgHome</th>\n",
       "      <th>avgRent</th>\n",
       "      <th>month</th>\n",
       "    </tr>\n",
       "  </thead>\n",
       "  <tbody>\n",
       "    <tr>\n",
       "      <th>0</th>\n",
       "      <td>239718.461538</td>\n",
       "      <td>1531.0</td>\n",
       "      <td>1</td>\n",
       "    </tr>\n",
       "    <tr>\n",
       "      <th>1</th>\n",
       "      <td>240585.307692</td>\n",
       "      <td>1530.0</td>\n",
       "      <td>2</td>\n",
       "    </tr>\n",
       "    <tr>\n",
       "      <th>2</th>\n",
       "      <td>234603.160000</td>\n",
       "      <td>1528.0</td>\n",
       "      <td>3</td>\n",
       "    </tr>\n",
       "    <tr>\n",
       "      <th>3</th>\n",
       "      <td>235294.080000</td>\n",
       "      <td>1527.0</td>\n",
       "      <td>4</td>\n",
       "    </tr>\n",
       "    <tr>\n",
       "      <th>4</th>\n",
       "      <td>235987.480000</td>\n",
       "      <td>1525.0</td>\n",
       "      <td>5</td>\n",
       "    </tr>\n",
       "    <tr>\n",
       "      <th>5</th>\n",
       "      <td>236695.280000</td>\n",
       "      <td>1524.0</td>\n",
       "      <td>6</td>\n",
       "    </tr>\n",
       "    <tr>\n",
       "      <th>6</th>\n",
       "      <td>237409.920000</td>\n",
       "      <td>1522.0</td>\n",
       "      <td>7</td>\n",
       "    </tr>\n",
       "    <tr>\n",
       "      <th>7</th>\n",
       "      <td>238156.440000</td>\n",
       "      <td>1521.0</td>\n",
       "      <td>8</td>\n",
       "    </tr>\n",
       "    <tr>\n",
       "      <th>8</th>\n",
       "      <td>238910.960000</td>\n",
       "      <td>1519.0</td>\n",
       "      <td>9</td>\n",
       "    </tr>\n",
       "    <tr>\n",
       "      <th>9</th>\n",
       "      <td>239721.880000</td>\n",
       "      <td>1518.0</td>\n",
       "      <td>10</td>\n",
       "    </tr>\n",
       "  </tbody>\n",
       "</table>\n",
       "</div>"
      ],
      "text/plain": [
       "         avgHome  avgRent  month\n",
       "0  239718.461538   1531.0      1\n",
       "1  240585.307692   1530.0      2\n",
       "2  234603.160000   1528.0      3\n",
       "3  235294.080000   1527.0      4\n",
       "4  235987.480000   1525.0      5\n",
       "5  236695.280000   1524.0      6\n",
       "6  237409.920000   1522.0      7\n",
       "7  238156.440000   1521.0      8\n",
       "8  238910.960000   1519.0      9\n",
       "9  239721.880000   1518.0     10"
      ]
     },
     "execution_count": 46,
     "metadata": {},
     "output_type": "execute_result"
    }
   ],
   "source": [
    "%%bigquery\n",
    "SELECT avg(hv.Austin) avgHome, avg(rt.Austin) as avgRent, extract(month from rt.Date) as month\n",
    "FROM zillow_staging.zillow_rental as rt\n",
    "JOIN zillow_staging.zillow_homevalue as hv\n",
    "ON  extract (month from rt.Date) = extract (month from hv.Date)\n",
    "WHERE extract (year from rt.Date) = 2020\n",
    "GROUP BY month\n",
    "ORDER BY avgRent DESC \n",
    "LIMIT 10\n"
   ]
  },
  {
   "cell_type": "markdown",
   "id": "earlier-sailing",
   "metadata": {},
   "source": [
    "Return the average of long-term housing value (from Zillow) and average short-term rental prince (from Airbnb)\n",
    "for each year in Austin. Specifically, we want only those with a VERY SHORT-TERM rent housing (min_nights <= 10)"
   ]
  },
  {
   "cell_type": "code",
   "execution_count": 3,
   "id": "simplified-consequence",
   "metadata": {},
   "outputs": [
    {
     "data": {
      "text/html": [
       "<div>\n",
       "<style scoped>\n",
       "    .dataframe tbody tr th:only-of-type {\n",
       "        vertical-align: middle;\n",
       "    }\n",
       "\n",
       "    .dataframe tbody tr th {\n",
       "        vertical-align: top;\n",
       "    }\n",
       "\n",
       "    .dataframe thead th {\n",
       "        text-align: right;\n",
       "    }\n",
       "</style>\n",
       "<table border=\"1\" class=\"dataframe\">\n",
       "  <thead>\n",
       "    <tr style=\"text-align: right;\">\n",
       "      <th></th>\n",
       "      <th>avgHomeValue</th>\n",
       "      <th>price</th>\n",
       "      <th>Year</th>\n",
       "    </tr>\n",
       "  </thead>\n",
       "  <tbody>\n",
       "    <tr>\n",
       "      <th>0</th>\n",
       "      <td>238267.36755</td>\n",
       "      <td>347.160344</td>\n",
       "      <td>2021</td>\n",
       "    </tr>\n",
       "    <tr>\n",
       "      <th>1</th>\n",
       "      <td>238267.36755</td>\n",
       "      <td>449.083443</td>\n",
       "      <td>2022</td>\n",
       "    </tr>\n",
       "  </tbody>\n",
       "</table>\n",
       "</div>"
      ],
      "text/plain": [
       "   avgHomeValue       price  Year\n",
       "0  238267.36755  347.160344  2021\n",
       "1  238267.36755  449.083443  2022"
      ]
     },
     "execution_count": 3,
     "metadata": {},
     "output_type": "execute_result"
    }
   ],
   "source": [
    "%%bigquery\n",
    "SELECT avg(hv.Austin) avgHomeValue, avg(ac.price) as price, extract (year from ac.Date) as Year\n",
    "FROM zillow_staging.zillow_homevalue as hv\n",
    "JOIN airbnb_staging.Austin_calendar as ac\n",
    "ON  extract (year from ac.Date) = extract (year from ac.Date)\n",
    "WHERE ac.minimum_nights <= 10\n",
    "GROUP BY Year\n",
    "ORDER BY price\n",
    "LIMIT 10\n"
   ]
  },
  {
   "cell_type": "markdown",
   "id": "strong-directory",
   "metadata": {},
   "source": [
    "Return the average long-term rental price and the average short-term price for each month\n",
    "by doing cross-dataset join (zillow = long-term & airbnb = short-term).\n",
    "We want to see only the data in summer i.e. month 6,7,8 - Summer is expected not to be\n",
    "popular for short-term renting"
   ]
  },
  {
   "cell_type": "code",
   "execution_count": 48,
   "id": "passive-garage",
   "metadata": {},
   "outputs": [
    {
     "data": {
      "text/html": [
       "<div>\n",
       "<style scoped>\n",
       "    .dataframe tbody tr th:only-of-type {\n",
       "        vertical-align: middle;\n",
       "    }\n",
       "\n",
       "    .dataframe tbody tr th {\n",
       "        vertical-align: top;\n",
       "    }\n",
       "\n",
       "    .dataframe thead th {\n",
       "        text-align: right;\n",
       "    }\n",
       "</style>\n",
       "<table border=\"1\" class=\"dataframe\">\n",
       "  <thead>\n",
       "    <tr style=\"text-align: right;\">\n",
       "      <th></th>\n",
       "      <th>LT_rent</th>\n",
       "      <th>AirBnBprice</th>\n",
       "      <th>Month</th>\n",
       "    </tr>\n",
       "  </thead>\n",
       "  <tbody>\n",
       "    <tr>\n",
       "      <th>0</th>\n",
       "      <td>1408.000000</td>\n",
       "      <td>296.503778</td>\n",
       "      <td>6</td>\n",
       "    </tr>\n",
       "    <tr>\n",
       "      <th>1</th>\n",
       "      <td>1412.000000</td>\n",
       "      <td>312.395859</td>\n",
       "      <td>7</td>\n",
       "    </tr>\n",
       "    <tr>\n",
       "      <th>2</th>\n",
       "      <td>1415.857143</td>\n",
       "      <td>322.386732</td>\n",
       "      <td>8</td>\n",
       "    </tr>\n",
       "  </tbody>\n",
       "</table>\n",
       "</div>"
      ],
      "text/plain": [
       "       LT_rent  AirBnBprice  Month\n",
       "0  1408.000000   296.503778      6\n",
       "1  1412.000000   312.395859      7\n",
       "2  1415.857143   322.386732      8"
      ]
     },
     "execution_count": 48,
     "metadata": {},
     "output_type": "execute_result"
    }
   ],
   "source": [
    "%%bigquery\n",
    "SELECT avg(rt.Austin) LT_rent, avg(ac.price) as AirBnBprice, extract (month from ac.Date) as Month\n",
    "FROM zillow_staging.zillow_rental as rt\n",
    "JOIN airbnb_staging.Austin_calendar as ac\n",
    "ON  extract (month from rt.Date) = extract (month from ac.Date)\n",
    "GROUP BY Month\n",
    "HAVING  Month in (6,7,8)\n",
    "ORDER BY LT_rent\n"
   ]
  },
  {
   "cell_type": "code",
   "execution_count": null,
   "id": "rapid-suspension",
   "metadata": {},
   "outputs": [],
   "source": []
  }
 ],
 "metadata": {
  "environment": {
   "name": "common-cpu.mnightly-2021-01-20-debian-10-test",
   "type": "gcloud",
   "uri": "gcr.io/deeplearning-platform-release/base-cpu:mnightly-2021-01-20-debian-10-test"
  },
  "kernelspec": {
   "display_name": "Python 3",
   "language": "python",
   "name": "python3"
  },
  "language_info": {
   "codemirror_mode": {
    "name": "ipython",
    "version": 3
   },
   "file_extension": ".py",
   "mimetype": "text/x-python",
   "name": "python",
   "nbconvert_exporter": "python",
   "pygments_lexer": "ipython3",
   "version": "3.7.9"
  }
 },
 "nbformat": 4,
 "nbformat_minor": 5
}
