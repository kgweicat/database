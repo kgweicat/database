{
 "cells": [
  {
   "cell_type": "markdown",
   "id": "basic-strip",
   "metadata": {},
   "source": [
    "### Part 1: Convert your previously written Beam pipeline(s) to Dataflow. Run them on Dataflow over the\n",
    "entire input data; debug and fix as necessary.\n",
    "\n",
    "Run over ENTIRE dataset"
   ]
  },
  {
   "cell_type": "code",
   "execution_count": 1,
   "id": "growing-orchestra",
   "metadata": {},
   "outputs": [
    {
     "data": {
      "application/javascript": [
       "\n",
       "        if (typeof window.interactive_beam_jquery == 'undefined') {\n",
       "          var jqueryScript = document.createElement('script');\n",
       "          jqueryScript.src = 'https://code.jquery.com/jquery-3.4.1.slim.min.js';\n",
       "          jqueryScript.type = 'text/javascript';\n",
       "          jqueryScript.onload = function() {\n",
       "            var datatableScript = document.createElement('script');\n",
       "            datatableScript.src = 'https://cdn.datatables.net/1.10.20/js/jquery.dataTables.min.js';\n",
       "            datatableScript.type = 'text/javascript';\n",
       "            datatableScript.onload = function() {\n",
       "              window.interactive_beam_jquery = jQuery.noConflict(true);\n",
       "              window.interactive_beam_jquery(document).ready(function($){\n",
       "                \n",
       "              });\n",
       "            }\n",
       "            document.head.appendChild(datatableScript);\n",
       "          };\n",
       "          document.head.appendChild(jqueryScript);\n",
       "        } else {\n",
       "          window.interactive_beam_jquery(document).ready(function($){\n",
       "            \n",
       "          });\n",
       "        }"
      ]
     },
     "metadata": {},
     "output_type": "display_data"
    },
    {
     "name": "stderr",
     "output_type": "stream",
     "text": [
      "/home/jupyter/venv/lib/python3.7/site-packages/apache_beam/io/gcp/bigquery.py:1881: BeamDeprecationWarning: options is deprecated since First stable release. References to <pipeline>.options will not be supported\n",
      "  temp_location = pcoll.pipeline.options.view_as(\n",
      "/home/jupyter/venv/lib/python3.7/site-packages/apache_beam/io/gcp/bigquery_file_loads.py:904: BeamDeprecationWarning: options is deprecated since First stable release. References to <pipeline>.options will not be supported\n",
      "  temp_location = p.options.view_as(GoogleCloudOptions).temp_location\n"
     ]
    }
   ],
   "source": [
    "%run apartment_dataflow.py"
   ]
  },
  {
   "cell_type": "code",
   "execution_count": 1,
   "id": "inappropriate-interstate",
   "metadata": {},
   "outputs": [
    {
     "data": {
      "application/javascript": [
       "\n",
       "        if (typeof window.interactive_beam_jquery == 'undefined') {\n",
       "          var jqueryScript = document.createElement('script');\n",
       "          jqueryScript.src = 'https://code.jquery.com/jquery-3.4.1.slim.min.js';\n",
       "          jqueryScript.type = 'text/javascript';\n",
       "          jqueryScript.onload = function() {\n",
       "            var datatableScript = document.createElement('script');\n",
       "            datatableScript.src = 'https://cdn.datatables.net/1.10.20/js/jquery.dataTables.min.js';\n",
       "            datatableScript.type = 'text/javascript';\n",
       "            datatableScript.onload = function() {\n",
       "              window.interactive_beam_jquery = jQuery.noConflict(true);\n",
       "              window.interactive_beam_jquery(document).ready(function($){\n",
       "                \n",
       "              });\n",
       "            }\n",
       "            document.head.appendChild(datatableScript);\n",
       "          };\n",
       "          document.head.appendChild(jqueryScript);\n",
       "        } else {\n",
       "          window.interactive_beam_jquery(document).ready(function($){\n",
       "            \n",
       "          });\n",
       "        }"
      ]
     },
     "metadata": {},
     "output_type": "display_data"
    },
    {
     "name": "stderr",
     "output_type": "stream",
     "text": [
      "/home/jupyter/venv/lib/python3.7/site-packages/apache_beam/io/gcp/bigquery.py:1881: BeamDeprecationWarning: options is deprecated since First stable release. References to <pipeline>.options will not be supported\n",
      "  temp_location = pcoll.pipeline.options.view_as(\n",
      "/home/jupyter/venv/lib/python3.7/site-packages/apache_beam/io/gcp/bigquery_file_loads.py:904: BeamDeprecationWarning: options is deprecated since First stable release. References to <pipeline>.options will not be supported\n",
      "  temp_location = p.options.view_as(GoogleCloudOptions).temp_location\n"
     ]
    }
   ],
   "source": [
    "%run host_dataflow.py"
   ]
  },
  {
   "cell_type": "markdown",
   "id": "dominant-annual",
   "metadata": {},
   "source": [
    "### Part 2: Verify that the BigQuery output tables from the previous step contain a valid primary & foreign key"
   ]
  },
  {
   "cell_type": "markdown",
   "id": "objective-desktop",
   "metadata": {},
   "source": [
    "Referential Integrity:\n",
    "Primary key (listing_id, host_id) of apartment_dataflow table\n",
    "\n",
    "Check the number of rows in the apartment_dataflow table"
   ]
  },
  {
   "cell_type": "code",
   "execution_count": 1,
   "id": "abstract-notification",
   "metadata": {},
   "outputs": [
    {
     "data": {
      "text/html": [
       "<div>\n",
       "<style scoped>\n",
       "    .dataframe tbody tr th:only-of-type {\n",
       "        vertical-align: middle;\n",
       "    }\n",
       "\n",
       "    .dataframe tbody tr th {\n",
       "        vertical-align: top;\n",
       "    }\n",
       "\n",
       "    .dataframe thead th {\n",
       "        text-align: right;\n",
       "    }\n",
       "</style>\n",
       "<table border=\"1\" class=\"dataframe\">\n",
       "  <thead>\n",
       "    <tr style=\"text-align: right;\">\n",
       "      <th></th>\n",
       "      <th>f0_</th>\n",
       "    </tr>\n",
       "  </thead>\n",
       "  <tbody>\n",
       "    <tr>\n",
       "      <th>0</th>\n",
       "      <td>45127</td>\n",
       "    </tr>\n",
       "  </tbody>\n",
       "</table>\n",
       "</div>"
      ],
      "text/plain": [
       "     f0_\n",
       "0  45127"
      ]
     },
     "execution_count": 1,
     "metadata": {},
     "output_type": "execute_result"
    }
   ],
   "source": [
    "%%bigquery\n",
    "SELECT count(*) FROM (SELECT listing_id, host_id FROM datamart.apartment_Dataflow)"
   ]
  },
  {
   "cell_type": "markdown",
   "id": "african-phoenix",
   "metadata": {},
   "source": [
    "Check the number of distince rows in the apartment_dataflow table\n",
    "(the number should be the same as the previous number)"
   ]
  },
  {
   "cell_type": "code",
   "execution_count": 2,
   "id": "developed-barcelona",
   "metadata": {},
   "outputs": [
    {
     "data": {
      "text/html": [
       "<div>\n",
       "<style scoped>\n",
       "    .dataframe tbody tr th:only-of-type {\n",
       "        vertical-align: middle;\n",
       "    }\n",
       "\n",
       "    .dataframe tbody tr th {\n",
       "        vertical-align: top;\n",
       "    }\n",
       "\n",
       "    .dataframe thead th {\n",
       "        text-align: right;\n",
       "    }\n",
       "</style>\n",
       "<table border=\"1\" class=\"dataframe\">\n",
       "  <thead>\n",
       "    <tr style=\"text-align: right;\">\n",
       "      <th></th>\n",
       "      <th>f0_</th>\n",
       "    </tr>\n",
       "  </thead>\n",
       "  <tbody>\n",
       "    <tr>\n",
       "      <th>0</th>\n",
       "      <td>45127</td>\n",
       "    </tr>\n",
       "  </tbody>\n",
       "</table>\n",
       "</div>"
      ],
      "text/plain": [
       "     f0_\n",
       "0  45127"
      ]
     },
     "execution_count": 2,
     "metadata": {},
     "output_type": "execute_result"
    }
   ],
   "source": [
    "%%bigquery\n",
    "SELECT DISTINCT count(*) FROM (SELECT listing_id, host_id FROM datamart.apartment_Dataflow)"
   ]
  },
  {
   "cell_type": "markdown",
   "id": "fallen-chick",
   "metadata": {},
   "source": [
    "----"
   ]
  },
  {
   "cell_type": "markdown",
   "id": "thousand-opportunity",
   "metadata": {},
   "source": [
    "Referential Integrity:Primary key (host_id) of host_dataflow table\n",
    "\n",
    "Check the number of rows in the host_dataflow table"
   ]
  },
  {
   "cell_type": "code",
   "execution_count": 1,
   "id": "artistic-lobby",
   "metadata": {},
   "outputs": [
    {
     "data": {
      "text/html": [
       "<div>\n",
       "<style scoped>\n",
       "    .dataframe tbody tr th:only-of-type {\n",
       "        vertical-align: middle;\n",
       "    }\n",
       "\n",
       "    .dataframe tbody tr th {\n",
       "        vertical-align: top;\n",
       "    }\n",
       "\n",
       "    .dataframe thead th {\n",
       "        text-align: right;\n",
       "    }\n",
       "</style>\n",
       "<table border=\"1\" class=\"dataframe\">\n",
       "  <thead>\n",
       "    <tr style=\"text-align: right;\">\n",
       "      <th></th>\n",
       "      <th>host_id</th>\n",
       "    </tr>\n",
       "  </thead>\n",
       "  <tbody>\n",
       "    <tr>\n",
       "      <th>0</th>\n",
       "      <td>26318</td>\n",
       "    </tr>\n",
       "  </tbody>\n",
       "</table>\n",
       "</div>"
      ],
      "text/plain": [
       "   host_id\n",
       "0    26318"
      ]
     },
     "execution_count": 1,
     "metadata": {},
     "output_type": "execute_result"
    }
   ],
   "source": [
    "%%bigquery\n",
    "SELECT count(*) host_id FROM datamart.host_Dataflow"
   ]
  },
  {
   "cell_type": "markdown",
   "id": "southwest-killing",
   "metadata": {},
   "source": [
    "Check the number of distinct rows in the host_dataflow table (the number should be the same as the previous number)"
   ]
  },
  {
   "cell_type": "code",
   "execution_count": 2,
   "id": "capable-puppy",
   "metadata": {},
   "outputs": [
    {
     "data": {
      "text/html": [
       "<div>\n",
       "<style scoped>\n",
       "    .dataframe tbody tr th:only-of-type {\n",
       "        vertical-align: middle;\n",
       "    }\n",
       "\n",
       "    .dataframe tbody tr th {\n",
       "        vertical-align: top;\n",
       "    }\n",
       "\n",
       "    .dataframe thead th {\n",
       "        text-align: right;\n",
       "    }\n",
       "</style>\n",
       "<table border=\"1\" class=\"dataframe\">\n",
       "  <thead>\n",
       "    <tr style=\"text-align: right;\">\n",
       "      <th></th>\n",
       "      <th>host_id</th>\n",
       "    </tr>\n",
       "  </thead>\n",
       "  <tbody>\n",
       "    <tr>\n",
       "      <th>0</th>\n",
       "      <td>26318</td>\n",
       "    </tr>\n",
       "  </tbody>\n",
       "</table>\n",
       "</div>"
      ],
      "text/plain": [
       "   host_id\n",
       "0    26318"
      ]
     },
     "execution_count": 2,
     "metadata": {},
     "output_type": "execute_result"
    }
   ],
   "source": [
    "%%bigquery\n",
    "SELECT DISTINCT count(*) host_id FROM datamart.host_Dataflow"
   ]
  },
  {
   "cell_type": "markdown",
   "id": "quarterly-place",
   "metadata": {},
   "source": [
    "---"
   ]
  },
  {
   "cell_type": "markdown",
   "id": "exciting-ozone",
   "metadata": {},
   "source": [
    "Referential Integrity: Foreign Key (host_id) of apartmen_dataflow table\n",
    "Checking FK (host_id) of apartment_Beam references PK (host_id) of host table (Result should be zero if the referential integrety of FK host_id is valid)"
   ]
  },
  {
   "cell_type": "code",
   "execution_count": 3,
   "id": "looking-ensemble",
   "metadata": {},
   "outputs": [
    {
     "data": {
      "text/html": [
       "<div>\n",
       "<style scoped>\n",
       "    .dataframe tbody tr th:only-of-type {\n",
       "        vertical-align: middle;\n",
       "    }\n",
       "\n",
       "    .dataframe tbody tr th {\n",
       "        vertical-align: top;\n",
       "    }\n",
       "\n",
       "    .dataframe thead th {\n",
       "        text-align: right;\n",
       "    }\n",
       "</style>\n",
       "<table border=\"1\" class=\"dataframe\">\n",
       "  <thead>\n",
       "    <tr style=\"text-align: right;\">\n",
       "      <th></th>\n",
       "      <th>f0_</th>\n",
       "    </tr>\n",
       "  </thead>\n",
       "  <tbody>\n",
       "    <tr>\n",
       "      <th>0</th>\n",
       "      <td>0</td>\n",
       "    </tr>\n",
       "  </tbody>\n",
       "</table>\n",
       "</div>"
      ],
      "text/plain": [
       "   f0_\n",
       "0    0"
      ]
     },
     "execution_count": 3,
     "metadata": {},
     "output_type": "execute_result"
    }
   ],
   "source": [
    "%%bigquery\n",
    "SELECT count(host_id) FROM datamart.apartment_Dataflow WHERE host_id NOT IN (select host_id from datamart.host)"
   ]
  },
  {
   "cell_type": "markdown",
   "id": "thrown-bulgaria",
   "metadata": {},
   "source": [
    "### Part 3: Implement three cross-dataset queries in your milestone4 notebook:"
   ]
  },
  {
   "cell_type": "markdown",
   "id": "labeled-hormone",
   "metadata": {},
   "source": [
    "SQL 1:\n",
    "Compute the 5-year average home value (Zillow data) and compare that to the daily Airbnb renting price,categorized by room types for each different city\n",
    "Plus, computing the home_vale-to-apartmentRent ratio for cross-city comparison"
   ]
  },
  {
   "cell_type": "code",
   "execution_count": 2,
   "id": "friendly-instrument",
   "metadata": {},
   "outputs": [
    {
     "data": {
      "text/html": [
       "<div>\n",
       "<style scoped>\n",
       "    .dataframe tbody tr th:only-of-type {\n",
       "        vertical-align: middle;\n",
       "    }\n",
       "\n",
       "    .dataframe tbody tr th {\n",
       "        vertical-align: top;\n",
       "    }\n",
       "\n",
       "    .dataframe thead th {\n",
       "        text-align: right;\n",
       "    }\n",
       "</style>\n",
       "<table border=\"1\" class=\"dataframe\">\n",
       "  <thead>\n",
       "    <tr style=\"text-align: right;\">\n",
       "      <th></th>\n",
       "      <th>home_value</th>\n",
       "      <th>city</th>\n",
       "      <th>AVG_Apt_price_day</th>\n",
       "      <th>Type_room</th>\n",
       "      <th>Homeval_to_apt_ratio</th>\n",
       "    </tr>\n",
       "  </thead>\n",
       "  <tbody>\n",
       "    <tr>\n",
       "      <th>0</th>\n",
       "      <td>338552.016129</td>\n",
       "      <td>Austin</td>\n",
       "      <td>68.894737</td>\n",
       "      <td>Shared room</td>\n",
       "      <td>4914.047599</td>\n",
       "    </tr>\n",
       "    <tr>\n",
       "      <th>1</th>\n",
       "      <td>338552.016129</td>\n",
       "      <td>Austin</td>\n",
       "      <td>112.047553</td>\n",
       "      <td>Private room</td>\n",
       "      <td>3021.502985</td>\n",
       "    </tr>\n",
       "    <tr>\n",
       "      <th>2</th>\n",
       "      <td>338552.016129</td>\n",
       "      <td>Austin</td>\n",
       "      <td>297.384326</td>\n",
       "      <td>Entire home/apt</td>\n",
       "      <td>1138.432617</td>\n",
       "    </tr>\n",
       "    <tr>\n",
       "      <th>3</th>\n",
       "      <td>338552.016129</td>\n",
       "      <td>Austin</td>\n",
       "      <td>647.200000</td>\n",
       "      <td>Hotel room</td>\n",
       "      <td>523.102621</td>\n",
       "    </tr>\n",
       "    <tr>\n",
       "      <th>4</th>\n",
       "      <td>471465.790323</td>\n",
       "      <td>Boston</td>\n",
       "      <td>178.192370</td>\n",
       "      <td>Entire home/apt</td>\n",
       "      <td>2645.824797</td>\n",
       "    </tr>\n",
       "    <tr>\n",
       "      <th>5</th>\n",
       "      <td>471465.790323</td>\n",
       "      <td>Boston</td>\n",
       "      <td>96.246704</td>\n",
       "      <td>Private room</td>\n",
       "      <td>4898.513602</td>\n",
       "    </tr>\n",
       "    <tr>\n",
       "      <th>6</th>\n",
       "      <td>471465.790323</td>\n",
       "      <td>Boston</td>\n",
       "      <td>185.520000</td>\n",
       "      <td>Hotel room</td>\n",
       "      <td>2541.320560</td>\n",
       "    </tr>\n",
       "    <tr>\n",
       "      <th>7</th>\n",
       "      <td>471465.790323</td>\n",
       "      <td>Boston</td>\n",
       "      <td>136.444444</td>\n",
       "      <td>Shared room</td>\n",
       "      <td>3455.368170</td>\n",
       "    </tr>\n",
       "    <tr>\n",
       "      <th>8</th>\n",
       "      <td>659523.580645</td>\n",
       "      <td>LA</td>\n",
       "      <td>108.691928</td>\n",
       "      <td>Private room</td>\n",
       "      <td>6067.824849</td>\n",
       "    </tr>\n",
       "    <tr>\n",
       "      <th>9</th>\n",
       "      <td>659523.580645</td>\n",
       "      <td>LA</td>\n",
       "      <td>282.457952</td>\n",
       "      <td>Entire home/apt</td>\n",
       "      <td>2334.944284</td>\n",
       "    </tr>\n",
       "    <tr>\n",
       "      <th>10</th>\n",
       "      <td>659523.580645</td>\n",
       "      <td>LA</td>\n",
       "      <td>62.042991</td>\n",
       "      <td>Shared room</td>\n",
       "      <td>10630.106217</td>\n",
       "    </tr>\n",
       "    <tr>\n",
       "      <th>11</th>\n",
       "      <td>659523.580645</td>\n",
       "      <td>LA</td>\n",
       "      <td>490.381944</td>\n",
       "      <td>Hotel room</td>\n",
       "      <td>1344.918156</td>\n",
       "    </tr>\n",
       "  </tbody>\n",
       "</table>\n",
       "</div>"
      ],
      "text/plain": [
       "       home_value    city  AVG_Apt_price_day        Type_room  \\\n",
       "0   338552.016129  Austin          68.894737      Shared room   \n",
       "1   338552.016129  Austin         112.047553     Private room   \n",
       "2   338552.016129  Austin         297.384326  Entire home/apt   \n",
       "3   338552.016129  Austin         647.200000       Hotel room   \n",
       "4   471465.790323  Boston         178.192370  Entire home/apt   \n",
       "5   471465.790323  Boston          96.246704     Private room   \n",
       "6   471465.790323  Boston         185.520000       Hotel room   \n",
       "7   471465.790323  Boston         136.444444      Shared room   \n",
       "8   659523.580645      LA         108.691928     Private room   \n",
       "9   659523.580645      LA         282.457952  Entire home/apt   \n",
       "10  659523.580645      LA          62.042991      Shared room   \n",
       "11  659523.580645      LA         490.381944       Hotel room   \n",
       "\n",
       "    Homeval_to_apt_ratio  \n",
       "0            4914.047599  \n",
       "1            3021.502985  \n",
       "2            1138.432617  \n",
       "3             523.102621  \n",
       "4            2645.824797  \n",
       "5            4898.513602  \n",
       "6            2541.320560  \n",
       "7            3455.368170  \n",
       "8            6067.824849  \n",
       "9            2334.944284  \n",
       "10          10630.106217  \n",
       "11           1344.918156  "
      ]
     },
     "execution_count": 2,
     "metadata": {},
     "output_type": "execute_result"
    }
   ],
   "source": [
    "%%bigquery\n",
    "CREATE VIEW reports.Homeval_Aptprice AS\n",
    "SELECT home_value, city1 as city,AVG_Apt_price_day,Type_room, (home_value/AVG_Apt_price_day) as Homeval_to_apt_ratio FROM\n",
    "(\n",
    "# Home value\n",
    "(SELECT AVG(home.home_value) as home_value, home.city as city1 FROM datamart.home_value as home WHERE extract (year from home.date) > 2015\n",
    "GROUP BY city1)\n",
    "# END: Home value\n",
    "JOIN \n",
    "# Apt by room\n",
    "(SELECT AVG(apt.price) as AVG_Apt_price_day, apt.city as city2, apt.room_type as Type_room FROM datamart.apartment_Dataflow as apt\n",
    "GROUP BY Type_room, city2)\n",
    "# END: Apt by room\n",
    "ON city1=city2\n",
    ")\n",
    "ORDER BY city1 "
   ]
  },
  {
   "cell_type": "markdown",
   "id": "retained-voltage",
   "metadata": {},
   "source": [
    "SQL 2: Compute the (percentage) increase in Long-term renting price over 3-year average for a different city (Zillow data) and compare with the % of Airbnb occupancy rate\n",
    "for the calendar year 2020-2021 (only this year available)"
   ]
  },
  {
   "cell_type": "code",
   "execution_count": 1,
   "id": "plastic-constraint",
   "metadata": {},
   "outputs": [
    {
     "data": {
      "text/html": [
       "<div>\n",
       "<style scoped>\n",
       "    .dataframe tbody tr th:only-of-type {\n",
       "        vertical-align: middle;\n",
       "    }\n",
       "\n",
       "    .dataframe tbody tr th {\n",
       "        vertical-align: top;\n",
       "    }\n",
       "\n",
       "    .dataframe thead th {\n",
       "        text-align: right;\n",
       "    }\n",
       "</style>\n",
       "<table border=\"1\" class=\"dataframe\">\n",
       "  <thead>\n",
       "    <tr style=\"text-align: right;\">\n",
       "      <th></th>\n",
       "      <th>AVG_Percent_Rent_Inc</th>\n",
       "      <th>city</th>\n",
       "      <th>occupy_rate</th>\n",
       "    </tr>\n",
       "  </thead>\n",
       "  <tbody>\n",
       "    <tr>\n",
       "      <th>0</th>\n",
       "      <td>1.459405</td>\n",
       "      <td>LA</td>\n",
       "      <td>23.066554</td>\n",
       "    </tr>\n",
       "    <tr>\n",
       "      <th>1</th>\n",
       "      <td>1.539365</td>\n",
       "      <td>Austin</td>\n",
       "      <td>39.197741</td>\n",
       "    </tr>\n",
       "    <tr>\n",
       "      <th>2</th>\n",
       "      <td>-0.712818</td>\n",
       "      <td>Boston</td>\n",
       "      <td>19.174839</td>\n",
       "    </tr>\n",
       "  </tbody>\n",
       "</table>\n",
       "</div>"
      ],
      "text/plain": [
       "   AVG_Percent_Rent_Inc    city  occupy_rate\n",
       "0              1.459405      LA    23.066554\n",
       "1              1.539365  Austin    39.197741\n",
       "2             -0.712818  Boston    19.174839"
      ]
     },
     "execution_count": 1,
     "metadata": {},
     "output_type": "execute_result"
    }
   ],
   "source": [
    "%%bigquery\n",
    "CREATE VIEW reports.Rent_Inc_Occ AS\n",
    "SELECT AVG_Percent_Rent_Inc, city1 as city, occupy_rate FROM(\n",
    "# Rent 3-Yar Avg Inc\n",
    "SELECT AVG(percent_rent_increase) as AVG_Percent_Rent_Inc, zcity1 FROM(\n",
    "# Rent Inc each Year\n",
    "SELECT 100*(rent2 - rent1)/rent1 as percent_rent_increase, year1, year2, zcity1 \n",
    "FROM\n",
    "(SELECT AVG(lr1.rental) as rent1, extract (year from lr1.date) as year1, lr1.city as zcity1\n",
    "FROM datamart.longrent as lr1 GROUP BY year1, lr1.city)\n",
    "JOIN\n",
    "(SELECT AVG(lr2.rental) as rent2, extract (year from lr2.date) as year2, lr2.city as zcity2\n",
    "FROM datamart.longrent as lr2 GROUP BY year2, lr2.city)\n",
    "ON year1+1=year2 and zcity1=zcity2)\n",
    "WHERE year1>2017\n",
    "# End: Rent Inc each Year\n",
    "GROUP BY zcity1\n",
    "# END: Rent 3-Yar Avg Inc\n",
    ")\n",
    "JOIN\n",
    "(\n",
    "# Occupancy\n",
    "SELECT 100*(tot - not_use)/tot as occupy_rate, city1 FROM (\n",
    "# Empty\n",
    "(SELECT count(*) as not_use, apt.city as city1 FROM datamart.apartment_Dataflow as apt\n",
    "WHERE apt.availability > 0 GROUP BY apt.city)\n",
    "# End: Empty\n",
    "JOIN \n",
    "# Total\n",
    "(SELECT count(*) as tot, apt2.city as city2 FROM datamart.apartment_Dataflow as apt2 \n",
    "GROUP BY apt2.city)\n",
    "# End: Total\n",
    "ON city1=city2)\n",
    "# END: Occupancy\n",
    ")\n",
    "ON city1=zcity1\n",
    "\n"
   ]
  },
  {
   "cell_type": "markdown",
   "id": "lesbian-musician",
   "metadata": {},
   "source": [
    "SQL3: Compute % changes in inventory in the last 3 years and compare to the avarage available days of Airbnb listings in the year 2020-2021 for 3 cities"
   ]
  },
  {
   "cell_type": "code",
   "execution_count": 5,
   "id": "satisfied-investing",
   "metadata": {},
   "outputs": [
    {
     "data": {
      "text/html": [
       "<div>\n",
       "<style scoped>\n",
       "    .dataframe tbody tr th:only-of-type {\n",
       "        vertical-align: middle;\n",
       "    }\n",
       "\n",
       "    .dataframe tbody tr th {\n",
       "        vertical-align: top;\n",
       "    }\n",
       "\n",
       "    .dataframe thead th {\n",
       "        text-align: right;\n",
       "    }\n",
       "</style>\n",
       "<table border=\"1\" class=\"dataframe\">\n",
       "  <thead>\n",
       "    <tr style=\"text-align: right;\">\n",
       "      <th></th>\n",
       "      <th>airbnb_avg_availability</th>\n",
       "      <th>avg_change_inventory</th>\n",
       "      <th>city</th>\n",
       "    </tr>\n",
       "  </thead>\n",
       "  <tbody>\n",
       "    <tr>\n",
       "      <th>0</th>\n",
       "      <td>206.184959</td>\n",
       "      <td>-8.083436</td>\n",
       "      <td>LA</td>\n",
       "    </tr>\n",
       "    <tr>\n",
       "      <th>1</th>\n",
       "      <td>386.896992</td>\n",
       "      <td>-3.007883</td>\n",
       "      <td>Austin</td>\n",
       "    </tr>\n",
       "    <tr>\n",
       "      <th>2</th>\n",
       "      <td>422.918498</td>\n",
       "      <td>-13.245386</td>\n",
       "      <td>Boston</td>\n",
       "    </tr>\n",
       "  </tbody>\n",
       "</table>\n",
       "</div>"
      ],
      "text/plain": [
       "   airbnb_avg_availability  avg_change_inventory    city\n",
       "0               206.184959             -8.083436      LA\n",
       "1               386.896992             -3.007883  Austin\n",
       "2               422.918498            -13.245386  Boston"
      ]
     },
     "execution_count": 5,
     "metadata": {},
     "output_type": "execute_result"
    }
   ],
   "source": [
    "%%bigquery\n",
    "CREATE VIEW reports.Inventory_vs_Availability AS\n",
    "SELECT airbnb_avg_availability, AVG(percent_inventory_increase) AS avg_change_inventory, city FROM\n",
    "(\n",
    "# Avg days avail\n",
    "(SELECT AVG(availability) AS airbnb_avg_availability, a.city as city0 FROM datamart.apartment_Dataflow a GROUP BY city0)\n",
    "# End: Avg days avail\n",
    "JOIN\n",
    "# Inv Inc\n",
    "(SELECT 100*(inventory2 - inventory1)/inventory1 as percent_inventory_increase, inventory1, inventory2, year1, year2, city1 AS city\n",
    "FROM\n",
    "(SELECT AVG(li1.inventory) as inventory1, extract (year from li1.date) as year1, li1.city as city1\n",
    "FROM datamart.inventory as li1\n",
    "GROUP BY year1, li1.city )\n",
    "JOIN\n",
    "(SELECT AVG(li2.inventory) as inventory2, extract (year from li2.date) as year2, li2.city as city2\n",
    "FROM datamart.inventory as li2\n",
    "GROUP BY year2, li2.city)\n",
    "ON year1+1=year2 and city1=city2)  \n",
    "# End: Inv Inc\n",
    "ON city0=city\n",
    ")\n",
    "GROUP BY city, airbnb_avg_availability"
   ]
  },
  {
   "cell_type": "code",
   "execution_count": null,
   "id": "detailed-elephant",
   "metadata": {},
   "outputs": [],
   "source": []
  }
 ],
 "metadata": {
  "environment": {
   "name": "common-cpu.mnightly-2021-01-20-debian-10-test",
   "type": "gcloud",
   "uri": "gcr.io/deeplearning-platform-release/base-cpu:mnightly-2021-01-20-debian-10-test"
  },
  "kernelspec": {
   "display_name": "Python 3",
   "language": "python",
   "name": "python3"
  },
  "language_info": {
   "codemirror_mode": {
    "name": "ipython",
    "version": 3
   },
   "file_extension": ".py",
   "mimetype": "text/x-python",
   "name": "python",
   "nbconvert_exporter": "python",
   "pygments_lexer": "ipython3",
   "version": "3.7.9"
  }
 },
 "nbformat": 4,
 "nbformat_minor": 5
}
