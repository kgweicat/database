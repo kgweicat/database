{
 "cells": [
  {
   "cell_type": "markdown",
   "id": "spiritual-hungarian",
   "metadata": {},
   "source": [
    "### 2. Identify all the tables in your datamart whichcontain data that needs to be cleansed."
   ]
  },
  {
   "cell_type": "code",
   "execution_count": 20,
   "id": "functioning-cancellation",
   "metadata": {},
   "outputs": [],
   "source": [
    "# apartment table has duplicate value (listing_id, host_id) - some are different by min/max night (with NULL)  which does not make sense"
   ]
  },
  {
   "cell_type": "code",
   "execution_count": 21,
   "id": "stuffed-ideal",
   "metadata": {},
   "outputs": [],
   "source": [
    "# host table - in case there are any duplicate host_id, we sum his #total listing"
   ]
  },
  {
   "cell_type": "markdown",
   "id": "instrumental-audio",
   "metadata": {},
   "source": [
    "### 3. For each source table, write a Beam pipeline that normalizes the data from the table and creates a new table with the transformed data"
   ]
  },
  {
   "cell_type": "code",
   "execution_count": 5,
   "id": "deluxe-hamburg",
   "metadata": {},
   "outputs": [],
   "source": [
    "%run apartment_beam.py"
   ]
  },
  {
   "cell_type": "code",
   "execution_count": 8,
   "id": "curious-amino",
   "metadata": {},
   "outputs": [],
   "source": [
    "%run host_beam.py"
   ]
  },
  {
   "cell_type": "markdown",
   "id": "about-junction",
   "metadata": {},
   "source": [
    "### 4. Verify that the BigQuery output tables from the previous step contain a valid primary key"
   ]
  },
  {
   "cell_type": "markdown",
   "id": "suspected-stocks",
   "metadata": {},
   "source": [
    "Referential Integrity:\n",
    "Primary key (listing_id, host_id) of apartment_Beam table\n",
    "\n",
    "Check the number of rows in the apartment_Beam table"
   ]
  },
  {
   "cell_type": "code",
   "execution_count": 2,
   "id": "divided-compound",
   "metadata": {},
   "outputs": [
    {
     "data": {
      "text/html": [
       "<div>\n",
       "<style scoped>\n",
       "    .dataframe tbody tr th:only-of-type {\n",
       "        vertical-align: middle;\n",
       "    }\n",
       "\n",
       "    .dataframe tbody tr th {\n",
       "        vertical-align: top;\n",
       "    }\n",
       "\n",
       "    .dataframe thead th {\n",
       "        text-align: right;\n",
       "    }\n",
       "</style>\n",
       "<table border=\"1\" class=\"dataframe\">\n",
       "  <thead>\n",
       "    <tr style=\"text-align: right;\">\n",
       "      <th></th>\n",
       "      <th>f0_</th>\n",
       "    </tr>\n",
       "  </thead>\n",
       "  <tbody>\n",
       "    <tr>\n",
       "      <th>0</th>\n",
       "      <td>98</td>\n",
       "    </tr>\n",
       "  </tbody>\n",
       "</table>\n",
       "</div>"
      ],
      "text/plain": [
       "   f0_\n",
       "0   98"
      ]
     },
     "execution_count": 2,
     "metadata": {},
     "output_type": "execute_result"
    }
   ],
   "source": [
    "%%bigquery\n",
    "SELECT count(*) FROM (SELECT listing_id, host_id FROM datamart.apartment_Beam)"
   ]
  },
  {
   "cell_type": "markdown",
   "id": "increasing-johnson",
   "metadata": {},
   "source": [
    "Check the number of distince rows in the apartment_Beam table\n",
    "(the number should be the same as the previous number)"
   ]
  },
  {
   "cell_type": "code",
   "execution_count": 7,
   "id": "cardiac-anderson",
   "metadata": {},
   "outputs": [
    {
     "data": {
      "text/html": [
       "<div>\n",
       "<style scoped>\n",
       "    .dataframe tbody tr th:only-of-type {\n",
       "        vertical-align: middle;\n",
       "    }\n",
       "\n",
       "    .dataframe tbody tr th {\n",
       "        vertical-align: top;\n",
       "    }\n",
       "\n",
       "    .dataframe thead th {\n",
       "        text-align: right;\n",
       "    }\n",
       "</style>\n",
       "<table border=\"1\" class=\"dataframe\">\n",
       "  <thead>\n",
       "    <tr style=\"text-align: right;\">\n",
       "      <th></th>\n",
       "      <th>f0_</th>\n",
       "    </tr>\n",
       "  </thead>\n",
       "  <tbody>\n",
       "    <tr>\n",
       "      <th>0</th>\n",
       "      <td>98</td>\n",
       "    </tr>\n",
       "  </tbody>\n",
       "</table>\n",
       "</div>"
      ],
      "text/plain": [
       "   f0_\n",
       "0   98"
      ]
     },
     "execution_count": 7,
     "metadata": {},
     "output_type": "execute_result"
    }
   ],
   "source": [
    "%%bigquery\n",
    "SELECT DISTINCT count(*) FROM (SELECT listing_id, host_id FROM datamart.apartment_Beam)"
   ]
  },
  {
   "cell_type": "markdown",
   "id": "loose-blackberry",
   "metadata": {},
   "source": [
    "Referential Integrity:Primary key (host_id) of host_Beam table\n",
    "\n",
    "Check the number of rows in the host_Beam table"
   ]
  },
  {
   "cell_type": "code",
   "execution_count": 4,
   "id": "departmental-management",
   "metadata": {},
   "outputs": [
    {
     "data": {
      "text/html": [
       "<div>\n",
       "<style scoped>\n",
       "    .dataframe tbody tr th:only-of-type {\n",
       "        vertical-align: middle;\n",
       "    }\n",
       "\n",
       "    .dataframe tbody tr th {\n",
       "        vertical-align: top;\n",
       "    }\n",
       "\n",
       "    .dataframe thead th {\n",
       "        text-align: right;\n",
       "    }\n",
       "</style>\n",
       "<table border=\"1\" class=\"dataframe\">\n",
       "  <thead>\n",
       "    <tr style=\"text-align: right;\">\n",
       "      <th></th>\n",
       "      <th>host_id</th>\n",
       "    </tr>\n",
       "  </thead>\n",
       "  <tbody>\n",
       "    <tr>\n",
       "      <th>0</th>\n",
       "      <td>100</td>\n",
       "    </tr>\n",
       "  </tbody>\n",
       "</table>\n",
       "</div>"
      ],
      "text/plain": [
       "   host_id\n",
       "0      100"
      ]
     },
     "execution_count": 4,
     "metadata": {},
     "output_type": "execute_result"
    }
   ],
   "source": [
    "%%bigquery\n",
    "SELECT count(*) host_id FROM datamart.host_Beam"
   ]
  },
  {
   "cell_type": "markdown",
   "id": "married-meter",
   "metadata": {},
   "source": [
    "Check the number of distinct rows in the host_Beam table (the number should be the same as the previous number)"
   ]
  },
  {
   "cell_type": "code",
   "execution_count": 5,
   "id": "reduced-plant",
   "metadata": {},
   "outputs": [
    {
     "data": {
      "text/html": [
       "<div>\n",
       "<style scoped>\n",
       "    .dataframe tbody tr th:only-of-type {\n",
       "        vertical-align: middle;\n",
       "    }\n",
       "\n",
       "    .dataframe tbody tr th {\n",
       "        vertical-align: top;\n",
       "    }\n",
       "\n",
       "    .dataframe thead th {\n",
       "        text-align: right;\n",
       "    }\n",
       "</style>\n",
       "<table border=\"1\" class=\"dataframe\">\n",
       "  <thead>\n",
       "    <tr style=\"text-align: right;\">\n",
       "      <th></th>\n",
       "      <th>host_id</th>\n",
       "    </tr>\n",
       "  </thead>\n",
       "  <tbody>\n",
       "    <tr>\n",
       "      <th>0</th>\n",
       "      <td>100</td>\n",
       "    </tr>\n",
       "  </tbody>\n",
       "</table>\n",
       "</div>"
      ],
      "text/plain": [
       "   host_id\n",
       "0      100"
      ]
     },
     "execution_count": 5,
     "metadata": {},
     "output_type": "execute_result"
    }
   ],
   "source": [
    "%%bigquery\n",
    "SELECT DISTINCT count(*) host_id FROM datamart.host_Beam"
   ]
  },
  {
   "cell_type": "markdown",
   "id": "consolidated-prime",
   "metadata": {},
   "source": [
    "Referential Integrity: Foreign Key (host_id) of apartmen_Beam table\n",
    "Checking FK (host_id) of apartment_Beam references PK (host_id) of host table (Result should be zero if the referential integrety of FK host_id is valid)"
   ]
  },
  {
   "cell_type": "code",
   "execution_count": 6,
   "id": "suspended-diary",
   "metadata": {},
   "outputs": [
    {
     "data": {
      "text/html": [
       "<div>\n",
       "<style scoped>\n",
       "    .dataframe tbody tr th:only-of-type {\n",
       "        vertical-align: middle;\n",
       "    }\n",
       "\n",
       "    .dataframe tbody tr th {\n",
       "        vertical-align: top;\n",
       "    }\n",
       "\n",
       "    .dataframe thead th {\n",
       "        text-align: right;\n",
       "    }\n",
       "</style>\n",
       "<table border=\"1\" class=\"dataframe\">\n",
       "  <thead>\n",
       "    <tr style=\"text-align: right;\">\n",
       "      <th></th>\n",
       "      <th>f0_</th>\n",
       "    </tr>\n",
       "  </thead>\n",
       "  <tbody>\n",
       "    <tr>\n",
       "      <th>0</th>\n",
       "      <td>0</td>\n",
       "    </tr>\n",
       "  </tbody>\n",
       "</table>\n",
       "</div>"
      ],
      "text/plain": [
       "   f0_\n",
       "0    0"
      ]
     },
     "execution_count": 6,
     "metadata": {},
     "output_type": "execute_result"
    }
   ],
   "source": [
    "%%bigquery\n",
    "SELECT count(host_id) FROM datamart.apartment_Beam WHERE host_id NOT IN (select host_id from datamart.host)"
   ]
  }
 ],
 "metadata": {
  "environment": {
   "name": "common-cpu.mnightly-2021-01-20-debian-10-test",
   "type": "gcloud",
   "uri": "gcr.io/deeplearning-platform-release/base-cpu:mnightly-2021-01-20-debian-10-test"
  },
  "kernelspec": {
   "display_name": "Python 3",
   "language": "python",
   "name": "python3"
  },
  "language_info": {
   "codemirror_mode": {
    "name": "ipython",
    "version": 3
   },
   "file_extension": ".py",
   "mimetype": "text/x-python",
   "name": "python",
   "nbconvert_exporter": "python",
   "pygments_lexer": "ipython3",
   "version": "3.7.9"
  }
 },
 "nbformat": 4,
 "nbformat_minor": 5
}
