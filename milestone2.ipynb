{
 "cells": [
  {
   "cell_type": "markdown",
   "id": "unlike-black",
   "metadata": {},
   "source": [
    "### 2) Create a new BQ dataset to store all of your modeled tables"
   ]
  },
  {
   "cell_type": "code",
   "execution_count": 3,
   "id": "attended-monkey",
   "metadata": {},
   "outputs": [],
   "source": [
    "dataset_id = \"datamart\""
   ]
  },
  {
   "cell_type": "code",
   "execution_count": 2,
   "id": "quantitative-fight",
   "metadata": {},
   "outputs": [
    {
     "name": "stdout",
     "output_type": "stream",
     "text": [
      "Dataset 'total-earth-236521:datamart' successfully created.\n"
     ]
    }
   ],
   "source": [
    "!bq --location=US mk --dataset {dataset_id}"
   ]
  },
  {
   "cell_type": "markdown",
   "id": "fabulous-revolution",
   "metadata": {},
   "source": [
    "### 3) Create modeled tables by following our BigQuery design guidelines"
   ]
  },
  {
   "cell_type": "code",
   "execution_count": 11,
   "id": "grand-reaction",
   "metadata": {},
   "outputs": [
    {
     "data": {
      "text/html": [
       "<div>\n",
       "<style scoped>\n",
       "    .dataframe tbody tr th:only-of-type {\n",
       "        vertical-align: middle;\n",
       "    }\n",
       "\n",
       "    .dataframe tbody tr th {\n",
       "        vertical-align: top;\n",
       "    }\n",
       "\n",
       "    .dataframe thead th {\n",
       "        text-align: right;\n",
       "    }\n",
       "</style>\n",
       "<table border=\"1\" class=\"dataframe\">\n",
       "  <thead>\n",
       "    <tr style=\"text-align: right;\">\n",
       "      <th></th>\n",
       "    </tr>\n",
       "  </thead>\n",
       "  <tbody>\n",
       "  </tbody>\n",
       "</table>\n",
       "</div>"
      ],
      "text/plain": [
       "Empty DataFrame\n",
       "Columns: []\n",
       "Index: []"
      ]
     },
     "execution_count": 11,
     "metadata": {},
     "output_type": "execute_result"
    }
   ],
   "source": [
    "%%bigquery\n",
    "CREATE TABLE datamart.host AS\n",
    "SELECT DISTINCT host_id, host_name, calculated_host_listings_count AS listings_count\n",
    "FROM airbnb_staging.Austin_listings\n",
    "UNION ALL SELECT DISTINCT host_id, host_name, calculated_host_listings_count AS listings_count FROM airbnb_staging.Boston_listings\n",
    "UNION ALL SELECT DISTINCT host_id, host_name, calculated_host_listings_count AS listinsg_count FROM airbnb_staging.LA_listings"
   ]
  },
  {
   "cell_type": "code",
   "execution_count": 8,
   "id": "standard-confusion",
   "metadata": {},
   "outputs": [
    {
     "data": {
      "text/html": [
       "<div>\n",
       "<style scoped>\n",
       "    .dataframe tbody tr th:only-of-type {\n",
       "        vertical-align: middle;\n",
       "    }\n",
       "\n",
       "    .dataframe tbody tr th {\n",
       "        vertical-align: top;\n",
       "    }\n",
       "\n",
       "    .dataframe thead th {\n",
       "        text-align: right;\n",
       "    }\n",
       "</style>\n",
       "<table border=\"1\" class=\"dataframe\">\n",
       "  <thead>\n",
       "    <tr style=\"text-align: right;\">\n",
       "      <th></th>\n",
       "    </tr>\n",
       "  </thead>\n",
       "  <tbody>\n",
       "  </tbody>\n",
       "</table>\n",
       "</div>"
      ],
      "text/plain": [
       "Empty DataFrame\n",
       "Columns: []\n",
       "Index: []"
      ]
     },
     "execution_count": 8,
     "metadata": {},
     "output_type": "execute_result"
    }
   ],
   "source": [
    "%%bigquery\n",
    "CREATE TABLE datamart.location AS\n",
    "SELECT DISTINCT id AS listing_id, neighbourhood_group, CAST (neighbourhood AS STRING) AS neighbourhood, latitude, longitude\n",
    "FROM airbnb_staging.Austin_listings\n",
    "WHERE id IS NOT NULL\n",
    "UNION ALL SELECT DISTINCT id AS listing_id,  neighbourhood_group, neighbourhood, latitude, longitude\n",
    "FROM airbnb_staging.Boston_listings\n",
    "WHERE id IS NOT NULL\n",
    "UNION ALL SELECT DISTINCT id AS listing_id,  neighbourhood_group, neighbourhood, latitude, longitude\n",
    "FROM airbnb_staging.LA_listings\n",
    "WHERE id IS NOT NULL"
   ]
  },
  {
   "cell_type": "code",
   "execution_count": 16,
   "id": "athletic-drink",
   "metadata": {},
   "outputs": [
    {
     "data": {
      "text/html": [
       "<div>\n",
       "<style scoped>\n",
       "    .dataframe tbody tr th:only-of-type {\n",
       "        vertical-align: middle;\n",
       "    }\n",
       "\n",
       "    .dataframe tbody tr th {\n",
       "        vertical-align: top;\n",
       "    }\n",
       "\n",
       "    .dataframe thead th {\n",
       "        text-align: right;\n",
       "    }\n",
       "</style>\n",
       "<table border=\"1\" class=\"dataframe\">\n",
       "  <thead>\n",
       "    <tr style=\"text-align: right;\">\n",
       "      <th></th>\n",
       "    </tr>\n",
       "  </thead>\n",
       "  <tbody>\n",
       "  </tbody>\n",
       "</table>\n",
       "</div>"
      ],
      "text/plain": [
       "Empty DataFrame\n",
       "Columns: []\n",
       "Index: []"
      ]
     },
     "execution_count": 16,
     "metadata": {},
     "output_type": "execute_result"
    }
   ],
   "source": [
    "%%bigquery\n",
    "CREATE TABLE datamart.apartment AS\n",
    "SELECT DISTINCT id AS listing_id, IFNULL(city, \"Austin\") AS city, host_id, name, room_type, al.price,\n",
    "al.minimum_nights, maximum_nights, availability_365, number_of_reviews, last_review, reviews_per_month\n",
    "FROM airbnb_staging.Austin_listings AS al JOIN airbnb_staging.Austin_calendar AS ac\n",
    "ON al.id = ac.listing_id\n",
    "WHERE id IS NOT NULL\n",
    "UNION ALL SELECT DISTINCT id AS listing_id, IFNULL(city, \"Boston\") AS city, host_id, name, room_type, bl.price,\n",
    "bl.minimum_nights, maximum_nights, availability_365, number_of_reviews, last_review, reviews_per_month\n",
    "FROM airbnb_staging.Boston_listings AS bl JOIN airbnb_staging.Boston_calendar AS bc\n",
    "ON bl.id = bc.listing_id\n",
    "WHERE id IS NOT NULL\n",
    "UNION ALL SELECT DISTINCT id AS listing_id, IFNULL(city, \"LA\") AS city, host_id, name, room_type, ll.price,\n",
    "ll.minimum_nights, maximum_nights, availability_365, number_of_reviews, last_review, reviews_per_month\n",
    "FROM airbnb_staging.LA_listings AS ll JOIN airbnb_staging.LA_calendar AS lc\n",
    "ON ll.id = lc.listing_id\n",
    "WHERE id IS NOT NULL"
   ]
  },
  {
   "cell_type": "code",
   "execution_count": 17,
   "id": "according-prospect",
   "metadata": {},
   "outputs": [
    {
     "data": {
      "text/html": [
       "<div>\n",
       "<style scoped>\n",
       "    .dataframe tbody tr th:only-of-type {\n",
       "        vertical-align: middle;\n",
       "    }\n",
       "\n",
       "    .dataframe tbody tr th {\n",
       "        vertical-align: top;\n",
       "    }\n",
       "\n",
       "    .dataframe thead th {\n",
       "        text-align: right;\n",
       "    }\n",
       "</style>\n",
       "<table border=\"1\" class=\"dataframe\">\n",
       "  <thead>\n",
       "    <tr style=\"text-align: right;\">\n",
       "      <th></th>\n",
       "    </tr>\n",
       "  </thead>\n",
       "  <tbody>\n",
       "  </tbody>\n",
       "</table>\n",
       "</div>"
      ],
      "text/plain": [
       "Empty DataFrame\n",
       "Columns: []\n",
       "Index: []"
      ]
     },
     "execution_count": 17,
     "metadata": {},
     "output_type": "execute_result"
    }
   ],
   "source": [
    "%%bigquery\n",
    "CREATE TABLE datamart.calendar AS \n",
    "SELECT DISTINCT listing_id, date, available \n",
    "FROM airbnb_staging.Austin_calendar\n",
    "WHERE listing_id IS NOT NULL\n",
    "UNION ALL SELECT DISTINCT listing_id, date, available \n",
    "FROM airbnb_staging.Boston_calendar\n",
    "WHERE listing_id IS NOT NULL\n",
    "UNION ALL SELECT DISTINCT listing_id, date, available \n",
    "FROM airbnb_staging.LA_calendar\n",
    "WHERE listing_id IS NOT NULL"
   ]
  },
  {
   "cell_type": "code",
   "execution_count": 19,
   "id": "beginning-phenomenon",
   "metadata": {},
   "outputs": [
    {
     "data": {
      "text/html": [
       "<div>\n",
       "<style scoped>\n",
       "    .dataframe tbody tr th:only-of-type {\n",
       "        vertical-align: middle;\n",
       "    }\n",
       "\n",
       "    .dataframe tbody tr th {\n",
       "        vertical-align: top;\n",
       "    }\n",
       "\n",
       "    .dataframe thead th {\n",
       "        text-align: right;\n",
       "    }\n",
       "</style>\n",
       "<table border=\"1\" class=\"dataframe\">\n",
       "  <thead>\n",
       "    <tr style=\"text-align: right;\">\n",
       "      <th></th>\n",
       "    </tr>\n",
       "  </thead>\n",
       "  <tbody>\n",
       "  </tbody>\n",
       "</table>\n",
       "</div>"
      ],
      "text/plain": [
       "Empty DataFrame\n",
       "Columns: []\n",
       "Index: []"
      ]
     },
     "execution_count": 19,
     "metadata": {},
     "output_type": "execute_result"
    }
   ],
   "source": [
    "%%bigquery\n",
    "CREATE TABLE datamart.review AS\n",
    "SELECT DISTINCT listing_id, date\n",
    "FROM airbnb_staging.Austin_reviews\n",
    "UNION ALL SELECT DISTINCT listing_id, date\n",
    "FROM airbnb_staging.Boston_reviews\n",
    "UNION ALL SELECT DISTINCT listing_id, date\n",
    "FROM airbnb_staging.LA_reviews\n"
   ]
  },
  {
   "cell_type": "code",
   "execution_count": 22,
   "id": "relative-crossing",
   "metadata": {},
   "outputs": [
    {
     "data": {
      "text/html": [
       "<div>\n",
       "<style scoped>\n",
       "    .dataframe tbody tr th:only-of-type {\n",
       "        vertical-align: middle;\n",
       "    }\n",
       "\n",
       "    .dataframe tbody tr th {\n",
       "        vertical-align: top;\n",
       "    }\n",
       "\n",
       "    .dataframe thead th {\n",
       "        text-align: right;\n",
       "    }\n",
       "</style>\n",
       "<table border=\"1\" class=\"dataframe\">\n",
       "  <thead>\n",
       "    <tr style=\"text-align: right;\">\n",
       "      <th></th>\n",
       "    </tr>\n",
       "  </thead>\n",
       "  <tbody>\n",
       "  </tbody>\n",
       "</table>\n",
       "</div>"
      ],
      "text/plain": [
       "Empty DataFrame\n",
       "Columns: []\n",
       "Index: []"
      ]
     },
     "execution_count": 22,
     "metadata": {},
     "output_type": "execute_result"
    }
   ],
   "source": [
    "%%bigquery\n",
    "CREATE TABLE datamart.longrent AS\n",
    "SELECT DISTINCT Date as date, Austin as rental, IFNULL(city, \"Austin\") AS city from zillow_staging.zillow_rental\n",
    "UNION ALL\n",
    "SELECT DISTINCT Date as date, Boston as rental, IFNULL(city, \"Boston\") AS city from zillow_staging.zillow_rental\n",
    "UNION ALL\n",
    "SELECT DISTINCT Date as date, LA as rental, IFNULL(city, \"LA\") AS city from zillow_staging.zillow_rental"
   ]
  },
  {
   "cell_type": "code",
   "execution_count": 23,
   "id": "forced-meditation",
   "metadata": {},
   "outputs": [
    {
     "data": {
      "text/html": [
       "<div>\n",
       "<style scoped>\n",
       "    .dataframe tbody tr th:only-of-type {\n",
       "        vertical-align: middle;\n",
       "    }\n",
       "\n",
       "    .dataframe tbody tr th {\n",
       "        vertical-align: top;\n",
       "    }\n",
       "\n",
       "    .dataframe thead th {\n",
       "        text-align: right;\n",
       "    }\n",
       "</style>\n",
       "<table border=\"1\" class=\"dataframe\">\n",
       "  <thead>\n",
       "    <tr style=\"text-align: right;\">\n",
       "      <th></th>\n",
       "    </tr>\n",
       "  </thead>\n",
       "  <tbody>\n",
       "  </tbody>\n",
       "</table>\n",
       "</div>"
      ],
      "text/plain": [
       "Empty DataFrame\n",
       "Columns: []\n",
       "Index: []"
      ]
     },
     "execution_count": 23,
     "metadata": {},
     "output_type": "execute_result"
    }
   ],
   "source": [
    "%%bigquery\n",
    "CREATE TABLE datamart.home_value AS\n",
    "SELECT DISTINCT Date as date, Austin as home_value, IFNULL(city, \"Austin\") AS city from zillow_staging.zillow_homevalue\n",
    "UNION ALL\n",
    "SELECT DISTINCT Date as date, Boston as home_value, IFNULL(city, \"Boston\") AS city from zillow_staging.zillow_homevalue\n",
    "UNION ALL\n",
    "SELECT DISTINCT Date as date, LA as home_value, IFNULL(city, \"LA\") AS city from zillow_staging.zillow_homevalue\n"
   ]
  },
  {
   "cell_type": "code",
   "execution_count": 24,
   "id": "alleged-closing",
   "metadata": {},
   "outputs": [
    {
     "data": {
      "text/html": [
       "<div>\n",
       "<style scoped>\n",
       "    .dataframe tbody tr th:only-of-type {\n",
       "        vertical-align: middle;\n",
       "    }\n",
       "\n",
       "    .dataframe tbody tr th {\n",
       "        vertical-align: top;\n",
       "    }\n",
       "\n",
       "    .dataframe thead th {\n",
       "        text-align: right;\n",
       "    }\n",
       "</style>\n",
       "<table border=\"1\" class=\"dataframe\">\n",
       "  <thead>\n",
       "    <tr style=\"text-align: right;\">\n",
       "      <th></th>\n",
       "    </tr>\n",
       "  </thead>\n",
       "  <tbody>\n",
       "  </tbody>\n",
       "</table>\n",
       "</div>"
      ],
      "text/plain": [
       "Empty DataFrame\n",
       "Columns: []\n",
       "Index: []"
      ]
     },
     "execution_count": 24,
     "metadata": {},
     "output_type": "execute_result"
    }
   ],
   "source": [
    "%%bigquery\n",
    "CREATE TABLE datamart.inventory AS\n",
    "SELECT DISTINCT Date as date, Austin as inventory, IFNULL(city, \"Austin\") AS city from zillow_staging.zillow_inventory\n",
    "UNION ALL\n",
    "SELECT DISTINCT Date as date, Boston as inventory, IFNULL(city, \"Boston\") AS city from zillow_staging.zillow_inventory\n",
    "UNION ALL\n",
    "SELECT DISTINCT Date as date, LA as inventory, IFNULL(city, \"LA\") AS city from zillow_staging.zillow_inventory"
   ]
  },
  {
   "cell_type": "code",
   "execution_count": 28,
   "id": "satellite-moisture",
   "metadata": {},
   "outputs": [
    {
     "data": {
      "text/html": [
       "<div>\n",
       "<style scoped>\n",
       "    .dataframe tbody tr th:only-of-type {\n",
       "        vertical-align: middle;\n",
       "    }\n",
       "\n",
       "    .dataframe tbody tr th {\n",
       "        vertical-align: top;\n",
       "    }\n",
       "\n",
       "    .dataframe thead th {\n",
       "        text-align: right;\n",
       "    }\n",
       "</style>\n",
       "<table border=\"1\" class=\"dataframe\">\n",
       "  <thead>\n",
       "    <tr style=\"text-align: right;\">\n",
       "      <th></th>\n",
       "    </tr>\n",
       "  </thead>\n",
       "  <tbody>\n",
       "  </tbody>\n",
       "</table>\n",
       "</div>"
      ],
      "text/plain": [
       "Empty DataFrame\n",
       "Columns: []\n",
       "Index: []"
      ]
     },
     "execution_count": 28,
     "metadata": {},
     "output_type": "execute_result"
    }
   ],
   "source": [
    "%%bigquery \n",
    "INSERT INTO datamart.cities(city)\n",
    "VALUES (\"Austin\")"
   ]
  },
  {
   "cell_type": "code",
   "execution_count": 29,
   "id": "earlier-inquiry",
   "metadata": {},
   "outputs": [
    {
     "data": {
      "text/html": [
       "<div>\n",
       "<style scoped>\n",
       "    .dataframe tbody tr th:only-of-type {\n",
       "        vertical-align: middle;\n",
       "    }\n",
       "\n",
       "    .dataframe tbody tr th {\n",
       "        vertical-align: top;\n",
       "    }\n",
       "\n",
       "    .dataframe thead th {\n",
       "        text-align: right;\n",
       "    }\n",
       "</style>\n",
       "<table border=\"1\" class=\"dataframe\">\n",
       "  <thead>\n",
       "    <tr style=\"text-align: right;\">\n",
       "      <th></th>\n",
       "    </tr>\n",
       "  </thead>\n",
       "  <tbody>\n",
       "  </tbody>\n",
       "</table>\n",
       "</div>"
      ],
      "text/plain": [
       "Empty DataFrame\n",
       "Columns: []\n",
       "Index: []"
      ]
     },
     "execution_count": 29,
     "metadata": {},
     "output_type": "execute_result"
    }
   ],
   "source": [
    "%%bigquery \n",
    "INSERT INTO datamart.cities(city)\n",
    "VALUES (\"Boston\")"
   ]
  },
  {
   "cell_type": "code",
   "execution_count": 30,
   "id": "sufficient-introduction",
   "metadata": {},
   "outputs": [
    {
     "data": {
      "text/html": [
       "<div>\n",
       "<style scoped>\n",
       "    .dataframe tbody tr th:only-of-type {\n",
       "        vertical-align: middle;\n",
       "    }\n",
       "\n",
       "    .dataframe tbody tr th {\n",
       "        vertical-align: top;\n",
       "    }\n",
       "\n",
       "    .dataframe thead th {\n",
       "        text-align: right;\n",
       "    }\n",
       "</style>\n",
       "<table border=\"1\" class=\"dataframe\">\n",
       "  <thead>\n",
       "    <tr style=\"text-align: right;\">\n",
       "      <th></th>\n",
       "    </tr>\n",
       "  </thead>\n",
       "  <tbody>\n",
       "  </tbody>\n",
       "</table>\n",
       "</div>"
      ],
      "text/plain": [
       "Empty DataFrame\n",
       "Columns: []\n",
       "Index: []"
      ]
     },
     "execution_count": 30,
     "metadata": {},
     "output_type": "execute_result"
    }
   ],
   "source": [
    "%%bigquery \n",
    "INSERT INTO datamart.cities(city)\n",
    "VALUES (\"LA\")"
   ]
  },
  {
   "cell_type": "markdown",
   "id": "invisible-landing",
   "metadata": {},
   "source": [
    "### 6) Explore data by writing SQL queries on modeled tables"
   ]
  },
  {
   "cell_type": "markdown",
   "id": "bearing-fitness",
   "metadata": {},
   "source": [
    "Return the average price of each room type in each city"
   ]
  },
  {
   "cell_type": "code",
   "execution_count": 1,
   "id": "sorted-challenge",
   "metadata": {},
   "outputs": [
    {
     "data": {
      "text/html": [
       "<div>\n",
       "<style scoped>\n",
       "    .dataframe tbody tr th:only-of-type {\n",
       "        vertical-align: middle;\n",
       "    }\n",
       "\n",
       "    .dataframe tbody tr th {\n",
       "        vertical-align: top;\n",
       "    }\n",
       "\n",
       "    .dataframe thead th {\n",
       "        text-align: right;\n",
       "    }\n",
       "</style>\n",
       "<table border=\"1\" class=\"dataframe\">\n",
       "  <thead>\n",
       "    <tr style=\"text-align: right;\">\n",
       "      <th></th>\n",
       "      <th>avg_price</th>\n",
       "      <th>city</th>\n",
       "      <th>room_type</th>\n",
       "    </tr>\n",
       "  </thead>\n",
       "  <tbody>\n",
       "    <tr>\n",
       "      <th>0</th>\n",
       "      <td>281.830584</td>\n",
       "      <td>Austin</td>\n",
       "      <td>Entire home/apt</td>\n",
       "    </tr>\n",
       "    <tr>\n",
       "      <th>1</th>\n",
       "      <td>628.636364</td>\n",
       "      <td>Austin</td>\n",
       "      <td>Hotel room</td>\n",
       "    </tr>\n",
       "    <tr>\n",
       "      <th>2</th>\n",
       "      <td>138.220304</td>\n",
       "      <td>Austin</td>\n",
       "      <td>Private room</td>\n",
       "    </tr>\n",
       "    <tr>\n",
       "      <th>3</th>\n",
       "      <td>63.437126</td>\n",
       "      <td>Austin</td>\n",
       "      <td>Shared room</td>\n",
       "    </tr>\n",
       "    <tr>\n",
       "      <th>4</th>\n",
       "      <td>191.143409</td>\n",
       "      <td>Boston</td>\n",
       "      <td>Entire home/apt</td>\n",
       "    </tr>\n",
       "    <tr>\n",
       "      <th>5</th>\n",
       "      <td>170.424242</td>\n",
       "      <td>Boston</td>\n",
       "      <td>Hotel room</td>\n",
       "    </tr>\n",
       "    <tr>\n",
       "      <th>6</th>\n",
       "      <td>103.286321</td>\n",
       "      <td>Boston</td>\n",
       "      <td>Private room</td>\n",
       "    </tr>\n",
       "    <tr>\n",
       "      <th>7</th>\n",
       "      <td>136.444444</td>\n",
       "      <td>Boston</td>\n",
       "      <td>Shared room</td>\n",
       "    </tr>\n",
       "    <tr>\n",
       "      <th>8</th>\n",
       "      <td>295.220401</td>\n",
       "      <td>LA</td>\n",
       "      <td>Entire home/apt</td>\n",
       "    </tr>\n",
       "    <tr>\n",
       "      <th>9</th>\n",
       "      <td>490.565574</td>\n",
       "      <td>LA</td>\n",
       "      <td>Hotel room</td>\n",
       "    </tr>\n",
       "    <tr>\n",
       "      <th>10</th>\n",
       "      <td>166.901357</td>\n",
       "      <td>LA</td>\n",
       "      <td>Private room</td>\n",
       "    </tr>\n",
       "    <tr>\n",
       "      <th>11</th>\n",
       "      <td>61.634720</td>\n",
       "      <td>LA</td>\n",
       "      <td>Shared room</td>\n",
       "    </tr>\n",
       "  </tbody>\n",
       "</table>\n",
       "</div>"
      ],
      "text/plain": [
       "     avg_price    city        room_type\n",
       "0   281.830584  Austin  Entire home/apt\n",
       "1   628.636364  Austin       Hotel room\n",
       "2   138.220304  Austin     Private room\n",
       "3    63.437126  Austin      Shared room\n",
       "4   191.143409  Boston  Entire home/apt\n",
       "5   170.424242  Boston       Hotel room\n",
       "6   103.286321  Boston     Private room\n",
       "7   136.444444  Boston      Shared room\n",
       "8   295.220401      LA  Entire home/apt\n",
       "9   490.565574      LA       Hotel room\n",
       "10  166.901357      LA     Private room\n",
       "11   61.634720      LA      Shared room"
      ]
     },
     "execution_count": 1,
     "metadata": {},
     "output_type": "execute_result"
    }
   ],
   "source": [
    "%%bigquery\n",
    "SELECT avg(price) AS avg_price, city, room_type\n",
    "FROM datamart.apartment\n",
    "GROUP BY city, room_type\n",
    "ORDER BY city, room_type"
   ]
  },
  {
   "cell_type": "markdown",
   "id": "helpful-elite",
   "metadata": {},
   "source": [
    "Return average price of short-term rental (minnight<10) for each room type for each city"
   ]
  },
  {
   "cell_type": "code",
   "execution_count": 4,
   "id": "numerous-candy",
   "metadata": {},
   "outputs": [
    {
     "data": {
      "text/html": [
       "<div>\n",
       "<style scoped>\n",
       "    .dataframe tbody tr th:only-of-type {\n",
       "        vertical-align: middle;\n",
       "    }\n",
       "\n",
       "    .dataframe tbody tr th {\n",
       "        vertical-align: top;\n",
       "    }\n",
       "\n",
       "    .dataframe thead th {\n",
       "        text-align: right;\n",
       "    }\n",
       "</style>\n",
       "<table border=\"1\" class=\"dataframe\">\n",
       "  <thead>\n",
       "    <tr style=\"text-align: right;\">\n",
       "      <th></th>\n",
       "      <th>avg_price</th>\n",
       "      <th>city</th>\n",
       "      <th>room_type</th>\n",
       "    </tr>\n",
       "  </thead>\n",
       "  <tbody>\n",
       "    <tr>\n",
       "      <th>0</th>\n",
       "      <td>286.610357</td>\n",
       "      <td>Austin</td>\n",
       "      <td>Entire home/apt</td>\n",
       "    </tr>\n",
       "    <tr>\n",
       "      <th>1</th>\n",
       "      <td>628.636364</td>\n",
       "      <td>Austin</td>\n",
       "      <td>Hotel room</td>\n",
       "    </tr>\n",
       "    <tr>\n",
       "      <th>2</th>\n",
       "      <td>146.784921</td>\n",
       "      <td>Austin</td>\n",
       "      <td>Private room</td>\n",
       "    </tr>\n",
       "    <tr>\n",
       "      <th>3</th>\n",
       "      <td>84.812500</td>\n",
       "      <td>Austin</td>\n",
       "      <td>Shared room</td>\n",
       "    </tr>\n",
       "    <tr>\n",
       "      <th>4</th>\n",
       "      <td>211.379038</td>\n",
       "      <td>Boston</td>\n",
       "      <td>Entire home/apt</td>\n",
       "    </tr>\n",
       "    <tr>\n",
       "      <th>5</th>\n",
       "      <td>179.533333</td>\n",
       "      <td>Boston</td>\n",
       "      <td>Hotel room</td>\n",
       "    </tr>\n",
       "    <tr>\n",
       "      <th>6</th>\n",
       "      <td>161.961722</td>\n",
       "      <td>Boston</td>\n",
       "      <td>Private room</td>\n",
       "    </tr>\n",
       "    <tr>\n",
       "      <th>7</th>\n",
       "      <td>48.000000</td>\n",
       "      <td>Boston</td>\n",
       "      <td>Shared room</td>\n",
       "    </tr>\n",
       "    <tr>\n",
       "      <th>8</th>\n",
       "      <td>331.553506</td>\n",
       "      <td>LA</td>\n",
       "      <td>Entire home/apt</td>\n",
       "    </tr>\n",
       "    <tr>\n",
       "      <th>9</th>\n",
       "      <td>543.196172</td>\n",
       "      <td>LA</td>\n",
       "      <td>Hotel room</td>\n",
       "    </tr>\n",
       "    <tr>\n",
       "      <th>10</th>\n",
       "      <td>202.820616</td>\n",
       "      <td>LA</td>\n",
       "      <td>Private room</td>\n",
       "    </tr>\n",
       "    <tr>\n",
       "      <th>11</th>\n",
       "      <td>76.201995</td>\n",
       "      <td>LA</td>\n",
       "      <td>Shared room</td>\n",
       "    </tr>\n",
       "  </tbody>\n",
       "</table>\n",
       "</div>"
      ],
      "text/plain": [
       "     avg_price    city        room_type\n",
       "0   286.610357  Austin  Entire home/apt\n",
       "1   628.636364  Austin       Hotel room\n",
       "2   146.784921  Austin     Private room\n",
       "3    84.812500  Austin      Shared room\n",
       "4   211.379038  Boston  Entire home/apt\n",
       "5   179.533333  Boston       Hotel room\n",
       "6   161.961722  Boston     Private room\n",
       "7    48.000000  Boston      Shared room\n",
       "8   331.553506      LA  Entire home/apt\n",
       "9   543.196172      LA       Hotel room\n",
       "10  202.820616      LA     Private room\n",
       "11   76.201995      LA      Shared room"
      ]
     },
     "execution_count": 4,
     "metadata": {},
     "output_type": "execute_result"
    }
   ],
   "source": [
    "%%bigquery\n",
    "SELECT avg(price) AS avg_price, city, room_type\n",
    "FROM datamart.apartment\n",
    "WHERE minimum_nights IN (SELECT minimum_nights FROM datamart.apartment WHERE minimum_nights<10)\n",
    "GROUP BY city, room_type\n",
    "ORDER BY city, room_type"
   ]
  },
  {
   "cell_type": "markdown",
   "id": "organized-absorption",
   "metadata": {},
   "source": [
    "Return the long-term rental price (min_night>90days) for each room type for each city"
   ]
  },
  {
   "cell_type": "code",
   "execution_count": 10,
   "id": "approximate-duration",
   "metadata": {},
   "outputs": [
    {
     "data": {
      "text/html": [
       "<div>\n",
       "<style scoped>\n",
       "    .dataframe tbody tr th:only-of-type {\n",
       "        vertical-align: middle;\n",
       "    }\n",
       "\n",
       "    .dataframe tbody tr th {\n",
       "        vertical-align: top;\n",
       "    }\n",
       "\n",
       "    .dataframe thead th {\n",
       "        text-align: right;\n",
       "    }\n",
       "</style>\n",
       "<table border=\"1\" class=\"dataframe\">\n",
       "  <thead>\n",
       "    <tr style=\"text-align: right;\">\n",
       "      <th></th>\n",
       "      <th>avg_price</th>\n",
       "      <th>city</th>\n",
       "      <th>room_type</th>\n",
       "    </tr>\n",
       "  </thead>\n",
       "  <tbody>\n",
       "    <tr>\n",
       "      <th>0</th>\n",
       "      <td>1295.725000</td>\n",
       "      <td>Austin</td>\n",
       "      <td>Entire home/apt</td>\n",
       "    </tr>\n",
       "    <tr>\n",
       "      <th>1</th>\n",
       "      <td>154.230769</td>\n",
       "      <td>Austin</td>\n",
       "      <td>Private room</td>\n",
       "    </tr>\n",
       "    <tr>\n",
       "      <th>2</th>\n",
       "      <td>200.541199</td>\n",
       "      <td>Boston</td>\n",
       "      <td>Entire home/apt</td>\n",
       "    </tr>\n",
       "    <tr>\n",
       "      <th>3</th>\n",
       "      <td>0.000000</td>\n",
       "      <td>Boston</td>\n",
       "      <td>Hotel room</td>\n",
       "    </tr>\n",
       "    <tr>\n",
       "      <th>4</th>\n",
       "      <td>73.251799</td>\n",
       "      <td>Boston</td>\n",
       "      <td>Private room</td>\n",
       "    </tr>\n",
       "    <tr>\n",
       "      <th>5</th>\n",
       "      <td>163.666667</td>\n",
       "      <td>Boston</td>\n",
       "      <td>Shared room</td>\n",
       "    </tr>\n",
       "    <tr>\n",
       "      <th>6</th>\n",
       "      <td>385.354037</td>\n",
       "      <td>LA</td>\n",
       "      <td>Entire home/apt</td>\n",
       "    </tr>\n",
       "    <tr>\n",
       "      <th>7</th>\n",
       "      <td>171.500000</td>\n",
       "      <td>LA</td>\n",
       "      <td>Hotel room</td>\n",
       "    </tr>\n",
       "    <tr>\n",
       "      <th>8</th>\n",
       "      <td>134.805556</td>\n",
       "      <td>LA</td>\n",
       "      <td>Private room</td>\n",
       "    </tr>\n",
       "    <tr>\n",
       "      <th>9</th>\n",
       "      <td>230.166667</td>\n",
       "      <td>LA</td>\n",
       "      <td>Shared room</td>\n",
       "    </tr>\n",
       "  </tbody>\n",
       "</table>\n",
       "</div>"
      ],
      "text/plain": [
       "     avg_price    city        room_type\n",
       "0  1295.725000  Austin  Entire home/apt\n",
       "1   154.230769  Austin     Private room\n",
       "2   200.541199  Boston  Entire home/apt\n",
       "3     0.000000  Boston       Hotel room\n",
       "4    73.251799  Boston     Private room\n",
       "5   163.666667  Boston      Shared room\n",
       "6   385.354037      LA  Entire home/apt\n",
       "7   171.500000      LA       Hotel room\n",
       "8   134.805556      LA     Private room\n",
       "9   230.166667      LA      Shared room"
      ]
     },
     "execution_count": 10,
     "metadata": {},
     "output_type": "execute_result"
    }
   ],
   "source": [
    "%%bigquery\n",
    "SELECT avg(price) AS avg_price, city, room_type\n",
    "FROM datamart.apartment\n",
    "WHERE minimum_nights IN (SELECT minimum_nights FROM datamart.apartment WHERE minimum_nights>90)\n",
    "GROUP BY city, room_type\n",
    "ORDER BY city, room_type"
   ]
  },
  {
   "cell_type": "markdown",
   "id": "african-chorus",
   "metadata": {},
   "source": [
    "Return the housing inventory in Boston for each month in the year 2019\n",
    "that has the inventory above the average inventory of this year.\n",
    "\n",
    "#inventory is above average -> inversely indicate the popularity of housing\n",
    "or the high activity of real-estate development\n",
    "\n"
   ]
  },
  {
   "cell_type": "code",
   "execution_count": 11,
   "id": "hydraulic-prototype",
   "metadata": {},
   "outputs": [
    {
     "data": {
      "text/html": [
       "<div>\n",
       "<style scoped>\n",
       "    .dataframe tbody tr th:only-of-type {\n",
       "        vertical-align: middle;\n",
       "    }\n",
       "\n",
       "    .dataframe tbody tr th {\n",
       "        vertical-align: top;\n",
       "    }\n",
       "\n",
       "    .dataframe thead th {\n",
       "        text-align: right;\n",
       "    }\n",
       "</style>\n",
       "<table border=\"1\" class=\"dataframe\">\n",
       "  <thead>\n",
       "    <tr style=\"text-align: right;\">\n",
       "      <th></th>\n",
       "      <th>inventory_in_month</th>\n",
       "      <th>month</th>\n",
       "    </tr>\n",
       "  </thead>\n",
       "  <tbody>\n",
       "    <tr>\n",
       "      <th>0</th>\n",
       "      <td>16338.0</td>\n",
       "      <td>5</td>\n",
       "    </tr>\n",
       "    <tr>\n",
       "      <th>1</th>\n",
       "      <td>16392.0</td>\n",
       "      <td>11</td>\n",
       "    </tr>\n",
       "    <tr>\n",
       "      <th>2</th>\n",
       "      <td>16959.0</td>\n",
       "      <td>9</td>\n",
       "    </tr>\n",
       "    <tr>\n",
       "      <th>3</th>\n",
       "      <td>16983.0</td>\n",
       "      <td>10</td>\n",
       "    </tr>\n",
       "    <tr>\n",
       "      <th>4</th>\n",
       "      <td>17387.0</td>\n",
       "      <td>8</td>\n",
       "    </tr>\n",
       "    <tr>\n",
       "      <th>5</th>\n",
       "      <td>17903.0</td>\n",
       "      <td>6</td>\n",
       "    </tr>\n",
       "    <tr>\n",
       "      <th>6</th>\n",
       "      <td>18267.0</td>\n",
       "      <td>7</td>\n",
       "    </tr>\n",
       "  </tbody>\n",
       "</table>\n",
       "</div>"
      ],
      "text/plain": [
       "   inventory_in_month  month\n",
       "0             16338.0      5\n",
       "1             16392.0     11\n",
       "2             16959.0      9\n",
       "3             16983.0     10\n",
       "4             17387.0      8\n",
       "5             17903.0      6\n",
       "6             18267.0      7"
      ]
     },
     "execution_count": 11,
     "metadata": {},
     "output_type": "execute_result"
    }
   ],
   "source": [
    "%%bigquery\n",
    "SELECT AVG(iv0.inventory) AS inventory_in_month, extract (month from iv0.date) as month\n",
    "FROM datamart.inventory AS iv0\n",
    "WHERE extract(year from iv0.date)=2019\n",
    "AND iv0.city='Boston'\n",
    "GROUP BY month\n",
    "HAVING\n",
    "inventory_in_month > (SELECT avg(iv1.inventory) \n",
    "FROM datamart.inventory as iv1\n",
    "WHERE iv1.city='Boston' and extract(year from iv1.date)=2019)\n",
    "ORDER BY inventory_in_month\n",
    "\n"
   ]
  },
  {
   "cell_type": "markdown",
   "id": "expressed-flush",
   "metadata": {},
   "source": [
    "Return the percentage increase in (monthly) Long-term rent (zillow data) over each consecutive year for each city"
   ]
  },
  {
   "cell_type": "code",
   "execution_count": 14,
   "id": "upper-checklist",
   "metadata": {},
   "outputs": [
    {
     "data": {
      "text/html": [
       "<div>\n",
       "<style scoped>\n",
       "    .dataframe tbody tr th:only-of-type {\n",
       "        vertical-align: middle;\n",
       "    }\n",
       "\n",
       "    .dataframe tbody tr th {\n",
       "        vertical-align: top;\n",
       "    }\n",
       "\n",
       "    .dataframe thead th {\n",
       "        text-align: right;\n",
       "    }\n",
       "</style>\n",
       "<table border=\"1\" class=\"dataframe\">\n",
       "  <thead>\n",
       "    <tr style=\"text-align: right;\">\n",
       "      <th></th>\n",
       "      <th>percent_rent_increase</th>\n",
       "      <th>rent1</th>\n",
       "      <th>rent2</th>\n",
       "      <th>year1</th>\n",
       "      <th>year2</th>\n",
       "      <th>city1</th>\n",
       "    </tr>\n",
       "  </thead>\n",
       "  <tbody>\n",
       "    <tr>\n",
       "      <th>0</th>\n",
       "      <td>5.233870</td>\n",
       "      <td>2216.333333</td>\n",
       "      <td>2332.333333</td>\n",
       "      <td>2016</td>\n",
       "      <td>2017</td>\n",
       "      <td>LA</td>\n",
       "    </tr>\n",
       "    <tr>\n",
       "      <th>1</th>\n",
       "      <td>4.334000</td>\n",
       "      <td>2332.333333</td>\n",
       "      <td>2433.416667</td>\n",
       "      <td>2017</td>\n",
       "      <td>2018</td>\n",
       "      <td>LA</td>\n",
       "    </tr>\n",
       "    <tr>\n",
       "      <th>2</th>\n",
       "      <td>-0.317170</td>\n",
       "      <td>2548.583333</td>\n",
       "      <td>2540.500000</td>\n",
       "      <td>2020</td>\n",
       "      <td>2021</td>\n",
       "      <td>LA</td>\n",
       "    </tr>\n",
       "    <tr>\n",
       "      <th>3</th>\n",
       "      <td>3.681381</td>\n",
       "      <td>2433.416667</td>\n",
       "      <td>2523.000000</td>\n",
       "      <td>2018</td>\n",
       "      <td>2019</td>\n",
       "      <td>LA</td>\n",
       "    </tr>\n",
       "    <tr>\n",
       "      <th>4</th>\n",
       "      <td>6.691271</td>\n",
       "      <td>2077.333333</td>\n",
       "      <td>2216.333333</td>\n",
       "      <td>2015</td>\n",
       "      <td>2016</td>\n",
       "      <td>LA</td>\n",
       "    </tr>\n",
       "    <tr>\n",
       "      <th>5</th>\n",
       "      <td>1.014004</td>\n",
       "      <td>2523.000000</td>\n",
       "      <td>2548.583333</td>\n",
       "      <td>2019</td>\n",
       "      <td>2020</td>\n",
       "      <td>LA</td>\n",
       "    </tr>\n",
       "    <tr>\n",
       "      <th>6</th>\n",
       "      <td>8.595077</td>\n",
       "      <td>1912.916667</td>\n",
       "      <td>2077.333333</td>\n",
       "      <td>2014</td>\n",
       "      <td>2015</td>\n",
       "      <td>LA</td>\n",
       "    </tr>\n",
       "    <tr>\n",
       "      <th>7</th>\n",
       "      <td>0.783016</td>\n",
       "      <td>1511.250000</td>\n",
       "      <td>1523.083333</td>\n",
       "      <td>2019</td>\n",
       "      <td>2020</td>\n",
       "      <td>Austin</td>\n",
       "    </tr>\n",
       "    <tr>\n",
       "      <th>8</th>\n",
       "      <td>2.691511</td>\n",
       "      <td>1408.750000</td>\n",
       "      <td>1446.666667</td>\n",
       "      <td>2017</td>\n",
       "      <td>2018</td>\n",
       "      <td>Austin</td>\n",
       "    </tr>\n",
       "    <tr>\n",
       "      <th>9</th>\n",
       "      <td>3.825545</td>\n",
       "      <td>1337.500000</td>\n",
       "      <td>1388.666667</td>\n",
       "      <td>2015</td>\n",
       "      <td>2016</td>\n",
       "      <td>Austin</td>\n",
       "    </tr>\n",
       "    <tr>\n",
       "      <th>10</th>\n",
       "      <td>6.885988</td>\n",
       "      <td>1251.333333</td>\n",
       "      <td>1337.500000</td>\n",
       "      <td>2014</td>\n",
       "      <td>2015</td>\n",
       "      <td>Austin</td>\n",
       "    </tr>\n",
       "    <tr>\n",
       "      <th>11</th>\n",
       "      <td>1.446231</td>\n",
       "      <td>1388.666667</td>\n",
       "      <td>1408.750000</td>\n",
       "      <td>2016</td>\n",
       "      <td>2017</td>\n",
       "      <td>Austin</td>\n",
       "    </tr>\n",
       "    <tr>\n",
       "      <th>12</th>\n",
       "      <td>4.464286</td>\n",
       "      <td>1446.666667</td>\n",
       "      <td>1511.250000</td>\n",
       "      <td>2018</td>\n",
       "      <td>2019</td>\n",
       "      <td>Austin</td>\n",
       "    </tr>\n",
       "    <tr>\n",
       "      <th>13</th>\n",
       "      <td>-0.629206</td>\n",
       "      <td>1523.083333</td>\n",
       "      <td>1513.500000</td>\n",
       "      <td>2020</td>\n",
       "      <td>2021</td>\n",
       "      <td>Austin</td>\n",
       "    </tr>\n",
       "    <tr>\n",
       "      <th>14</th>\n",
       "      <td>3.292165</td>\n",
       "      <td>2199.666667</td>\n",
       "      <td>2272.083333</td>\n",
       "      <td>2016</td>\n",
       "      <td>2017</td>\n",
       "      <td>Boston</td>\n",
       "    </tr>\n",
       "    <tr>\n",
       "      <th>15</th>\n",
       "      <td>4.163214</td>\n",
       "      <td>2111.750000</td>\n",
       "      <td>2199.666667</td>\n",
       "      <td>2015</td>\n",
       "      <td>2016</td>\n",
       "      <td>Boston</td>\n",
       "    </tr>\n",
       "    <tr>\n",
       "      <th>16</th>\n",
       "      <td>2.904823</td>\n",
       "      <td>2272.083333</td>\n",
       "      <td>2338.083333</td>\n",
       "      <td>2017</td>\n",
       "      <td>2018</td>\n",
       "      <td>Boston</td>\n",
       "    </tr>\n",
       "    <tr>\n",
       "      <th>17</th>\n",
       "      <td>3.143601</td>\n",
       "      <td>2338.083333</td>\n",
       "      <td>2411.583333</td>\n",
       "      <td>2018</td>\n",
       "      <td>2019</td>\n",
       "      <td>Boston</td>\n",
       "    </tr>\n",
       "    <tr>\n",
       "      <th>18</th>\n",
       "      <td>3.963077</td>\n",
       "      <td>2031.250000</td>\n",
       "      <td>2111.750000</td>\n",
       "      <td>2014</td>\n",
       "      <td>2015</td>\n",
       "      <td>Boston</td>\n",
       "    </tr>\n",
       "    <tr>\n",
       "      <th>19</th>\n",
       "      <td>-1.378762</td>\n",
       "      <td>2411.583333</td>\n",
       "      <td>2378.333333</td>\n",
       "      <td>2019</td>\n",
       "      <td>2020</td>\n",
       "      <td>Boston</td>\n",
       "    </tr>\n",
       "    <tr>\n",
       "      <th>20</th>\n",
       "      <td>-3.903294</td>\n",
       "      <td>2378.333333</td>\n",
       "      <td>2285.500000</td>\n",
       "      <td>2020</td>\n",
       "      <td>2021</td>\n",
       "      <td>Boston</td>\n",
       "    </tr>\n",
       "  </tbody>\n",
       "</table>\n",
       "</div>"
      ],
      "text/plain": [
       "    percent_rent_increase        rent1        rent2  year1  year2   city1\n",
       "0                5.233870  2216.333333  2332.333333   2016   2017      LA\n",
       "1                4.334000  2332.333333  2433.416667   2017   2018      LA\n",
       "2               -0.317170  2548.583333  2540.500000   2020   2021      LA\n",
       "3                3.681381  2433.416667  2523.000000   2018   2019      LA\n",
       "4                6.691271  2077.333333  2216.333333   2015   2016      LA\n",
       "5                1.014004  2523.000000  2548.583333   2019   2020      LA\n",
       "6                8.595077  1912.916667  2077.333333   2014   2015      LA\n",
       "7                0.783016  1511.250000  1523.083333   2019   2020  Austin\n",
       "8                2.691511  1408.750000  1446.666667   2017   2018  Austin\n",
       "9                3.825545  1337.500000  1388.666667   2015   2016  Austin\n",
       "10               6.885988  1251.333333  1337.500000   2014   2015  Austin\n",
       "11               1.446231  1388.666667  1408.750000   2016   2017  Austin\n",
       "12               4.464286  1446.666667  1511.250000   2018   2019  Austin\n",
       "13              -0.629206  1523.083333  1513.500000   2020   2021  Austin\n",
       "14               3.292165  2199.666667  2272.083333   2016   2017  Boston\n",
       "15               4.163214  2111.750000  2199.666667   2015   2016  Boston\n",
       "16               2.904823  2272.083333  2338.083333   2017   2018  Boston\n",
       "17               3.143601  2338.083333  2411.583333   2018   2019  Boston\n",
       "18               3.963077  2031.250000  2111.750000   2014   2015  Boston\n",
       "19              -1.378762  2411.583333  2378.333333   2019   2020  Boston\n",
       "20              -3.903294  2378.333333  2285.500000   2020   2021  Boston"
      ]
     },
     "execution_count": 14,
     "metadata": {},
     "output_type": "execute_result"
    }
   ],
   "source": [
    "%%bigquery\n",
    "SELECT 100*(rent2 - rent1)/rent1 as percent_rent_increase, rent1, rent2, year1, year2, city1\n",
    "FROM\n",
    "(SELECT AVG(lr1.rental) as rent1, extract (year from lr1.date) as year1, lr1.city as city1\n",
    "FROM datamart.longrent as lr1\n",
    "GROUP BY year1, lr1.city)\n",
    "JOIN\n",
    "(SELECT AVG(lr2.rental) as rent2, extract (year from lr2.date) as year2, lr2.city as city2\n",
    "FROM datamart.longrent as lr2\n",
    "GROUP BY year2, lr2.city)\n",
    "ON year1+1=year2 and city1=city2"
   ]
  },
  {
   "cell_type": "markdown",
   "id": "nutritional-working",
   "metadata": {},
   "source": [
    "### 7) Create data visualizations"
   ]
  },
  {
   "cell_type": "markdown",
   "id": "internal-discharge",
   "metadata": {},
   "source": [
    "Create BQ dataset and name it reports"
   ]
  },
  {
   "cell_type": "code",
   "execution_count": 15,
   "id": "hydraulic-sugar",
   "metadata": {},
   "outputs": [],
   "source": [
    "report_dataset_id = \"reports\""
   ]
  },
  {
   "cell_type": "code",
   "execution_count": 16,
   "id": "royal-error",
   "metadata": {},
   "outputs": [
    {
     "name": "stdout",
     "output_type": "stream",
     "text": [
      "Dataset 'total-earth-236521:reports' successfully created.\n"
     ]
    }
   ],
   "source": [
    "!bq --location=US mk --dataset {report_dataset_id}"
   ]
  },
  {
   "cell_type": "markdown",
   "id": "compressed-address",
   "metadata": {},
   "source": [
    "create a view for 2 querys in the reports dataset"
   ]
  },
  {
   "cell_type": "code",
   "execution_count": 19,
   "id": "social-distribution",
   "metadata": {},
   "outputs": [
    {
     "data": {
      "text/html": [
       "<div>\n",
       "<style scoped>\n",
       "    .dataframe tbody tr th:only-of-type {\n",
       "        vertical-align: middle;\n",
       "    }\n",
       "\n",
       "    .dataframe tbody tr th {\n",
       "        vertical-align: top;\n",
       "    }\n",
       "\n",
       "    .dataframe thead th {\n",
       "        text-align: right;\n",
       "    }\n",
       "</style>\n",
       "<table border=\"1\" class=\"dataframe\">\n",
       "  <thead>\n",
       "    <tr style=\"text-align: right;\">\n",
       "      <th></th>\n",
       "    </tr>\n",
       "  </thead>\n",
       "  <tbody>\n",
       "  </tbody>\n",
       "</table>\n",
       "</div>"
      ],
      "text/plain": [
       "Empty DataFrame\n",
       "Columns: []\n",
       "Index: []"
      ]
     },
     "execution_count": 19,
     "metadata": {},
     "output_type": "execute_result"
    }
   ],
   "source": [
    "%%bigquery\n",
    "CREATE VIEW reports.City_room_price AS\n",
    "SELECT avg(price) AS avg_price, city, room_type\n",
    "FROM datamart.apartment\n",
    "GROUP BY city, room_type\n",
    "ORDER BY city, room_type"
   ]
  },
  {
   "cell_type": "code",
   "execution_count": 20,
   "id": "julian-thread",
   "metadata": {},
   "outputs": [
    {
     "data": {
      "text/html": [
       "<div>\n",
       "<style scoped>\n",
       "    .dataframe tbody tr th:only-of-type {\n",
       "        vertical-align: middle;\n",
       "    }\n",
       "\n",
       "    .dataframe tbody tr th {\n",
       "        vertical-align: top;\n",
       "    }\n",
       "\n",
       "    .dataframe thead th {\n",
       "        text-align: right;\n",
       "    }\n",
       "</style>\n",
       "<table border=\"1\" class=\"dataframe\">\n",
       "  <thead>\n",
       "    <tr style=\"text-align: right;\">\n",
       "      <th></th>\n",
       "    </tr>\n",
       "  </thead>\n",
       "  <tbody>\n",
       "  </tbody>\n",
       "</table>\n",
       "</div>"
      ],
      "text/plain": [
       "Empty DataFrame\n",
       "Columns: []\n",
       "Index: []"
      ]
     },
     "execution_count": 20,
     "metadata": {},
     "output_type": "execute_result"
    }
   ],
   "source": [
    "%%bigquery\n",
    "CREATE VIEW reports.Percent_rent_increase AS\n",
    "SELECT 100*(rent2 - rent1)/rent1 as percent_rent_increase, rent1, rent2, year1, year2, city1\n",
    "FROM\n",
    "(SELECT AVG(lr1.rental) as rent1, extract (year from lr1.date) as year1, lr1.city as city1\n",
    "FROM datamart.longrent as lr1\n",
    "GROUP BY year1, lr1.city)\n",
    "JOIN\n",
    "(SELECT AVG(lr2.rental) as rent2, extract (year from lr2.date) as year2, lr2.city as city2\n",
    "FROM datamart.longrent as lr2\n",
    "GROUP BY year2, lr2.city)\n",
    "ON year1+1=year2 and city1=city2"
   ]
  },
  {
   "cell_type": "code",
   "execution_count": null,
   "id": "better-cinema",
   "metadata": {},
   "outputs": [],
   "source": []
  }
 ],
 "metadata": {
  "environment": {
   "name": "common-cpu.mnightly-2021-01-20-debian-10-test",
   "type": "gcloud",
   "uri": "gcr.io/deeplearning-platform-release/base-cpu:mnightly-2021-01-20-debian-10-test"
  },
  "kernelspec": {
   "display_name": "Python 3",
   "language": "python",
   "name": "python3"
  },
  "language_info": {
   "codemirror_mode": {
    "name": "ipython",
    "version": 3
   },
   "file_extension": ".py",
   "mimetype": "text/x-python",
   "name": "python",
   "nbconvert_exporter": "python",
   "pygments_lexer": "ipython3",
   "version": "3.7.9"
  }
 },
 "nbformat": 4,
 "nbformat_minor": 5
}
